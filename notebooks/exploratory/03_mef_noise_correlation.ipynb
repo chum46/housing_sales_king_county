{
 "cells": [
  {
   "cell_type": "code",
   "execution_count": 31,
   "metadata": {},
   "outputs": [
    {
     "name": "stdout",
     "output_type": "stream",
     "text": [
      "The autoreload extension is already loaded. To reload it, use:\n",
      "  %reload_ext autoreload\n"
     ]
    }
   ],
   "source": [
    "#add auto reload for src function testing\n",
    "%load_ext autoreload\n",
    "%autoreload 2\n",
    "\n",
    "#let's add the project directory to our module path\n",
    "import os\n",
    "import sys\n",
    "\n",
    "module_path = os.path.abspath(os.path.join(os.pardir, os.pardir))\n",
    "if module_path not in sys.path:\n",
    "    sys.path.append(module_path)\n",
    "    \n",
    "    \n",
    "#also import all of our modules\n",
    "import pandas as pd\n",
    "import numpy as np\n",
    "from scipy import stats\n",
    "import matplotlib.pyplot as plt\n",
    "import seaborn as sns\n",
    "from src import data_cleaning\n",
    "\n",
    "#and here is our data directiory\n",
    "data_folder = '../../data/'"
   ]
  },
  {
   "cell_type": "markdown",
   "metadata": {},
   "source": [
    "# Objective\n",
    "\n",
    "### In order to find which factors contribute to property value, we will look at the correlation between different nuisances like airport noise or power lines.\n",
    "\n",
    "## Airport Noise"
   ]
  },
  {
   "cell_type": "code",
   "execution_count": 32,
   "metadata": {},
   "outputs": [],
   "source": [
    "sales = pd.read_csv(data_folder+'EXTR_RPSale_2019.csv',dtype={'Major': 'string', 'Minor':'string', 'PIN': 'string'})\n",
    "parcels = pd.read_csv(data_folder+'EXTR_Parcel_2019.csv',dtype={'Major': 'string', 'Minor':'string', 'PIN': 'string'})"
   ]
  },
  {
   "cell_type": "code",
   "execution_count": 33,
   "metadata": {},
   "outputs": [
    {
     "name": "stdout",
     "output_type": "stream",
     "text": [
      "<class 'pandas.core.frame.DataFrame'>\n",
      "RangeIndex: 42680 entries, 0 to 42679\n",
      "Data columns (total 26 columns):\n",
      " #   Column              Non-Null Count  Dtype \n",
      "---  ------              --------------  ----- \n",
      " 0   Unnamed: 0          42680 non-null  int64 \n",
      " 1   ExciseTaxNbr        42680 non-null  int64 \n",
      " 2   Major               42680 non-null  string\n",
      " 3   Minor               42680 non-null  string\n",
      " 4   DocumentDate        42680 non-null  object\n",
      " 5   SalePrice           42680 non-null  int64 \n",
      " 6   RecordingNbr        42680 non-null  object\n",
      " 7   Volume              42680 non-null  object\n",
      " 8   Page                42680 non-null  object\n",
      " 9   PlatNbr             42680 non-null  object\n",
      " 10  PlatType            42680 non-null  object\n",
      " 11  PlatLot             42680 non-null  object\n",
      " 12  PlatBlock           42680 non-null  object\n",
      " 13  SellerName          42680 non-null  object\n",
      " 14  BuyerName           42680 non-null  object\n",
      " 15  PropertyType        42680 non-null  int64 \n",
      " 16  PrincipalUse        42680 non-null  int64 \n",
      " 17  SaleInstrument      42680 non-null  int64 \n",
      " 18  AFForestLand        42680 non-null  object\n",
      " 19  AFCurrentUseLand    42680 non-null  object\n",
      " 20  AFNonProfitUse      42680 non-null  object\n",
      " 21  AFHistoricProperty  42680 non-null  object\n",
      " 22  SaleReason          42680 non-null  int64 \n",
      " 23  PropertyClass       42680 non-null  int64 \n",
      " 24  SaleWarning         42680 non-null  object\n",
      " 25  PIN                 42680 non-null  string\n",
      "dtypes: int64(8), object(15), string(3)\n",
      "memory usage: 8.5+ MB\n",
      "<class 'pandas.core.frame.DataFrame'>\n",
      "RangeIndex: 37954 entries, 0 to 37953\n",
      "Data columns (total 83 columns):\n",
      " #   Column                  Non-Null Count  Dtype  \n",
      "---  ------                  --------------  -----  \n",
      " 0   Unnamed: 0              37954 non-null  int64  \n",
      " 1   Major                   37954 non-null  string \n",
      " 2   Minor                   37954 non-null  string \n",
      " 3   PropName                35700 non-null  object \n",
      " 4   PlatName                33768 non-null  object \n",
      " 5   PlatLot                 37954 non-null  object \n",
      " 6   PlatBlock               37954 non-null  object \n",
      " 7   Range                   37954 non-null  int64  \n",
      " 8   Township                37954 non-null  int64  \n",
      " 9   Section                 37954 non-null  int64  \n",
      " 10  QuarterSection          37954 non-null  object \n",
      " 11  PropType                37954 non-null  object \n",
      " 12  Area                    37954 non-null  float64\n",
      " 13  SubArea                 37954 non-null  float64\n",
      " 14  SpecArea                0 non-null      float64\n",
      " 15  SpecSubArea             0 non-null      float64\n",
      " 16  DistrictName            37954 non-null  object \n",
      " 17  LevyCode                37954 non-null  int64  \n",
      " 18  CurrentZoning           37954 non-null  object \n",
      " 19  HBUAsIfVacant           37954 non-null  int64  \n",
      " 20  HBUAsImproved           37954 non-null  int64  \n",
      " 21  PresentUse              37954 non-null  int64  \n",
      " 22  SqFtLot                 37954 non-null  int64  \n",
      " 23  WaterSystem             37954 non-null  int64  \n",
      " 24  SewerSystem             37954 non-null  int64  \n",
      " 25  Access                  37954 non-null  int64  \n",
      " 26  Topography              37954 non-null  int64  \n",
      " 27  StreetSurface           37954 non-null  int64  \n",
      " 28  RestrictiveSzShape      37954 non-null  int64  \n",
      " 29  InadequateParking       37954 non-null  int64  \n",
      " 30  PcntUnusable            37954 non-null  int64  \n",
      " 31  Unbuildable             37954 non-null  bool   \n",
      " 32  MtRainier               37954 non-null  int64  \n",
      " 33  Olympics                37954 non-null  int64  \n",
      " 34  Cascades                37954 non-null  int64  \n",
      " 35  Territorial             37954 non-null  int64  \n",
      " 36  SeattleSkyline          37954 non-null  int64  \n",
      " 37  PugetSound              37954 non-null  int64  \n",
      " 38  LakeWashington          37954 non-null  int64  \n",
      " 39  LakeSammamish           37954 non-null  int64  \n",
      " 40  SmallLakeRiverCreek     37954 non-null  int64  \n",
      " 41  OtherView               37954 non-null  int64  \n",
      " 42  WfntLocation            37954 non-null  int64  \n",
      " 43  WfntFootage             37954 non-null  int64  \n",
      " 44  WfntBank                37954 non-null  int64  \n",
      " 45  WfntPoorQuality         37954 non-null  int64  \n",
      " 46  WfntRestrictedAccess    37954 non-null  int64  \n",
      " 47  WfntAccessRights        37954 non-null  object \n",
      " 48  WfntProximityInfluence  37954 non-null  object \n",
      " 49  TidelandShoreland       37954 non-null  int64  \n",
      " 50  LotDepthFactor          37954 non-null  int64  \n",
      " 51  TrafficNoise            37954 non-null  int64  \n",
      " 52  AirportNoise            37954 non-null  int64  \n",
      " 53  PowerLines              37954 non-null  object \n",
      " 54  OtherNuisances          37954 non-null  object \n",
      " 55  NbrBldgSites            37954 non-null  int64  \n",
      " 56  Contamination           37954 non-null  int64  \n",
      " 57  DNRLease                37954 non-null  object \n",
      " 58  AdjacentGolfFairway     37954 non-null  object \n",
      " 59  AdjacentGreenbelt       37954 non-null  object \n",
      " 60  HistoricSite            37954 non-null  int64  \n",
      " 61  CurrentUseDesignation   37954 non-null  int64  \n",
      " 62  NativeGrowthProtEsmt    37954 non-null  object \n",
      " 63  Easements               37954 non-null  object \n",
      " 64  OtherDesignation        37954 non-null  object \n",
      " 65  DeedRestrictions        37954 non-null  object \n",
      " 66  DevelopmentRightsPurch  37954 non-null  object \n",
      " 67  CoalMineHazard          37954 non-null  object \n",
      " 68  CriticalDrainage        37954 non-null  object \n",
      " 69  ErosionHazard           37954 non-null  object \n",
      " 70  LandfillBuffer          37954 non-null  object \n",
      " 71  HundredYrFloodPlain     37954 non-null  object \n",
      " 72  SeismicHazard           37954 non-null  object \n",
      " 73  LandslideHazard         37954 non-null  object \n",
      " 74  SteepSlopeHazard        37954 non-null  object \n",
      " 75  Stream                  37954 non-null  object \n",
      " 76  Wetland                 37954 non-null  object \n",
      " 77  SpeciesOfConcern        37954 non-null  object \n",
      " 78  SensitiveAreaTract      37954 non-null  object \n",
      " 79  WaterProblems           37954 non-null  object \n",
      " 80  TranspConcurrency       37954 non-null  object \n",
      " 81  OtherProblems           37954 non-null  object \n",
      " 82  PIN                     37954 non-null  string \n",
      "dtypes: bool(1), float64(4), int64(40), object(35), string(3)\n",
      "memory usage: 23.8+ MB\n"
     ]
    }
   ],
   "source": [
    "sales.info()\n",
    "\n",
    "parcels.info()"
   ]
  },
  {
   "cell_type": "code",
   "execution_count": 34,
   "metadata": {},
   "outputs": [],
   "source": [
    "sales_PINs = sales.loc[:, ['SalePrice', 'PIN']]\n",
    "air_noise_PINs = parcels.loc[:,['AirportNoise', 'PIN']]\n",
    "\n",
    "sales_vs_air_noise = pd.merge(sales_PINs, air_noise_PINs, on='PIN', how='inner')"
   ]
  },
  {
   "cell_type": "code",
   "execution_count": 38,
   "metadata": {},
   "outputs": [
    {
     "data": {
      "text/html": [
       "<div>\n",
       "<style scoped>\n",
       "    .dataframe tbody tr th:only-of-type {\n",
       "        vertical-align: middle;\n",
       "    }\n",
       "\n",
       "    .dataframe tbody tr th {\n",
       "        vertical-align: top;\n",
       "    }\n",
       "\n",
       "    .dataframe thead th {\n",
       "        text-align: right;\n",
       "    }\n",
       "</style>\n",
       "<table border=\"1\" class=\"dataframe\">\n",
       "  <thead>\n",
       "    <tr style=\"text-align: right;\">\n",
       "      <th></th>\n",
       "      <th>SalePrice</th>\n",
       "      <th>PIN</th>\n",
       "      <th>AirportNoise</th>\n",
       "    </tr>\n",
       "  </thead>\n",
       "  <tbody>\n",
       "    <tr>\n",
       "      <th>0</th>\n",
       "      <td>560000</td>\n",
       "      <td>2130430120</td>\n",
       "      <td>0</td>\n",
       "    </tr>\n",
       "    <tr>\n",
       "      <th>1</th>\n",
       "      <td>435000</td>\n",
       "      <td>9406520630</td>\n",
       "      <td>0</td>\n",
       "    </tr>\n",
       "    <tr>\n",
       "      <th>2</th>\n",
       "      <td>450000</td>\n",
       "      <td>1402810020</td>\n",
       "      <td>0</td>\n",
       "    </tr>\n",
       "    <tr>\n",
       "      <th>3</th>\n",
       "      <td>0</td>\n",
       "      <td>7797900030</td>\n",
       "      <td>0</td>\n",
       "    </tr>\n",
       "    <tr>\n",
       "      <th>4</th>\n",
       "      <td>193000</td>\n",
       "      <td>1245500098</td>\n",
       "      <td>0</td>\n",
       "    </tr>\n",
       "    <tr>\n",
       "      <th>...</th>\n",
       "      <td>...</td>\n",
       "      <td>...</td>\n",
       "      <td>...</td>\n",
       "    </tr>\n",
       "    <tr>\n",
       "      <th>42675</th>\n",
       "      <td>442000</td>\n",
       "      <td>4059400095</td>\n",
       "      <td>0</td>\n",
       "    </tr>\n",
       "    <tr>\n",
       "      <th>42676</th>\n",
       "      <td>680000</td>\n",
       "      <td>3816700025</td>\n",
       "      <td>0</td>\n",
       "    </tr>\n",
       "    <tr>\n",
       "      <th>42677</th>\n",
       "      <td>745000</td>\n",
       "      <td>6150200505</td>\n",
       "      <td>0</td>\n",
       "    </tr>\n",
       "    <tr>\n",
       "      <th>42678</th>\n",
       "      <td>0</td>\n",
       "      <td>3023000320</td>\n",
       "      <td>0</td>\n",
       "    </tr>\n",
       "    <tr>\n",
       "      <th>42679</th>\n",
       "      <td>955000</td>\n",
       "      <td>2771104239</td>\n",
       "      <td>0</td>\n",
       "    </tr>\n",
       "  </tbody>\n",
       "</table>\n",
       "<p>42680 rows × 3 columns</p>\n",
       "</div>"
      ],
      "text/plain": [
       "       SalePrice         PIN  AirportNoise\n",
       "0         560000  2130430120             0\n",
       "1         435000  9406520630             0\n",
       "2         450000  1402810020             0\n",
       "3              0  7797900030             0\n",
       "4         193000  1245500098             0\n",
       "...          ...         ...           ...\n",
       "42675     442000  4059400095             0\n",
       "42676     680000  3816700025             0\n",
       "42677     745000  6150200505             0\n",
       "42678          0  3023000320             0\n",
       "42679     955000  2771104239             0\n",
       "\n",
       "[42680 rows x 3 columns]"
      ]
     },
     "execution_count": 38,
     "metadata": {},
     "output_type": "execute_result"
    }
   ],
   "source": [
    "sales_vs_air_noise"
   ]
  },
  {
   "cell_type": "markdown",
   "metadata": {},
   "source": [
    "#### Let's check out the distribution of our data"
   ]
  },
  {
   "cell_type": "code",
   "execution_count": 43,
   "metadata": {},
   "outputs": [
    {
     "name": "stderr",
     "output_type": "stream",
     "text": [
      "/home/max/anaconda3/envs/housing/lib/python3.8/site-packages/seaborn/distributions.py:283: UserWarning: Data must have variance to compute a kernel density estimate.\n",
      "  warnings.warn(msg, UserWarning)\n"
     ]
    },
    {
     "data": {
      "text/plain": [
       "<matplotlib.axes._subplots.AxesSubplot at 0x7f97efdf02e0>"
      ]
     },
     "execution_count": 43,
     "metadata": {},
     "output_type": "execute_result"
    },
    {
     "data": {
      "image/png": "[encoded data removed]",
      "text/plain": [
       "<Figure size 432x288 with 1 Axes>"
      ]
     },
     "metadata": {
      "needs_background": "light"
     },
     "output_type": "display_data"
    }
   ],
   "source": [
    "sns.distplot(sales_vs_air_noise.AirportNoise)"
   ]
  },
  {
   "cell_type": "markdown",
   "metadata": {},
   "source": [
    "Looks like there aren't any properties with airport noise in this dataset. Let's checkout the spread of the data in the original parcels data."
   ]
  },
  {
   "cell_type": "code",
   "execution_count": 47,
   "metadata": {},
   "outputs": [
    {
     "name": "stderr",
     "output_type": "stream",
     "text": [
      "/home/max/anaconda3/envs/housing/lib/python3.8/site-packages/seaborn/distributions.py:369: UserWarning: Default bandwidth for data is 0; skipping density estimation.\n",
      "  warnings.warn(msg, UserWarning)\n"
     ]
    },
    {
     "data": {
      "text/plain": [
       "<matplotlib.axes._subplots.AxesSubplot at 0x7f97ecff49d0>"
      ]
     },
     "execution_count": 47,
     "metadata": {},
     "output_type": "execute_result"
    },
    {
     "data": {
      "image/png": "[encoded data removed]",
      "text/plain": [
       "<Figure size 432x288 with 1 Axes>"
      ]
     },
     "metadata": {
      "needs_background": "light"
     },
     "output_type": "display_data"
    }
   ],
   "source": [
    "orig_parcels = pd.read_csv(data_folder+'EXTR_Parcel.csv', dtype={'Major': 'string', 'Minor':'string'}, encoding='iso8859_14')\n",
    "sns.distplot(orig_parcels.AirportNoise)"
   ]
  },
  {
   "cell_type": "markdown",
   "metadata": {},
   "source": [
    "looks like there's no airport noise in the data we have. Let's check traffic noise."
   ]
  },
  {
   "cell_type": "code",
   "execution_count": 48,
   "metadata": {},
   "outputs": [
    {
     "name": "stderr",
     "output_type": "stream",
     "text": [
      "/home/max/anaconda3/envs/housing/lib/python3.8/site-packages/seaborn/distributions.py:369: UserWarning: Default bandwidth for data is 0; skipping density estimation.\n",
      "  warnings.warn(msg, UserWarning)\n"
     ]
    },
    {
     "data": {
      "text/plain": [
       "<matplotlib.axes._subplots.AxesSubplot at 0x7f97efd07d00>"
      ]
     },
     "execution_count": 48,
     "metadata": {},
     "output_type": "execute_result"
    },
    {
     "data": {
      "image/png": "[encoded data removed]",
      "text/plain": [
       "<Figure size 432x288 with 1 Axes>"
      ]
     },
     "metadata": {
      "needs_background": "light"
     },
     "output_type": "display_data"
    }
   ],
   "source": [
    "sns.distplot(orig_parcels.TrafficNoise)"
   ]
  },
  {
   "cell_type": "markdown",
   "metadata": {},
   "source": [
    "Looks like there's a little data in the original dataset, let's see how ours compares"
   ]
  },
  {
   "cell_type": "code",
   "execution_count": 49,
   "metadata": {},
   "outputs": [],
   "source": [
    "traffic_noise_PINs = parcels.loc[:,['TrafficNoise', 'PIN']]\n",
    "\n",
    "sales_vs_traffic_noise = pd.merge(sales_PINs, traffic_noise_PINs, on='PIN', how='inner')"
   ]
  },
  {
   "cell_type": "code",
   "execution_count": 50,
   "metadata": {},
   "outputs": [
    {
     "name": "stderr",
     "output_type": "stream",
     "text": [
      "/home/max/anaconda3/envs/housing/lib/python3.8/site-packages/seaborn/distributions.py:369: UserWarning: Default bandwidth for data is 0; skipping density estimation.\n",
      "  warnings.warn(msg, UserWarning)\n"
     ]
    },
    {
     "data": {
      "text/plain": [
       "<matplotlib.axes._subplots.AxesSubplot at 0x7f97eb3d3cd0>"
      ]
     },
     "execution_count": 50,
     "metadata": {},
     "output_type": "execute_result"
    },
    {
     "data": {
      "image/png": "[encoded data removed]",
      "text/plain": [
       "<Figure size 432x288 with 1 Axes>"
      ]
     },
     "metadata": {
      "needs_background": "light"
     },
     "output_type": "display_data"
    }
   ],
   "source": [
    "sns.distplot(sales_vs_traffic_noise.TrafficNoise)"
   ]
  },
  {
   "cell_type": "code",
   "execution_count": 51,
   "metadata": {},
   "outputs": [
    {
     "data": {
      "text/html": [
       "<div>\n",
       "<style scoped>\n",
       "    .dataframe tbody tr th:only-of-type {\n",
       "        vertical-align: middle;\n",
       "    }\n",
       "\n",
       "    .dataframe tbody tr th {\n",
       "        vertical-align: top;\n",
       "    }\n",
       "\n",
       "    .dataframe thead th {\n",
       "        text-align: right;\n",
       "    }\n",
       "</style>\n",
       "<table border=\"1\" class=\"dataframe\">\n",
       "  <thead>\n",
       "    <tr style=\"text-align: right;\">\n",
       "      <th></th>\n",
       "      <th>SalePrice</th>\n",
       "      <th>TrafficNoise</th>\n",
       "    </tr>\n",
       "  </thead>\n",
       "  <tbody>\n",
       "    <tr>\n",
       "      <th>SalePrice</th>\n",
       "      <td>1.000000</td>\n",
       "      <td>-0.020214</td>\n",
       "    </tr>\n",
       "    <tr>\n",
       "      <th>TrafficNoise</th>\n",
       "      <td>-0.020214</td>\n",
       "      <td>1.000000</td>\n",
       "    </tr>\n",
       "  </tbody>\n",
       "</table>\n",
       "</div>"
      ],
      "text/plain": [
       "              SalePrice  TrafficNoise\n",
       "SalePrice      1.000000     -0.020214\n",
       "TrafficNoise  -0.020214      1.000000"
      ]
     },
     "execution_count": 51,
     "metadata": {},
     "output_type": "execute_result"
    }
   ],
   "source": [
    "sales_vs_traffic_noise.corr()"
   ]
  },
  {
   "cell_type": "code",
   "execution_count": null,
   "metadata": {},
   "outputs": [],
   "source": [
    " "
   ]
  }
 ],
 "metadata": {
  "kernelspec": {
   "display_name": "Python 3",
   "language": "python",
   "name": "python3"
  },
  "language_info": {
   "codemirror_mode": {
    "name": "ipython",
    "version": 3
   },
   "file_extension": ".py",
   "mimetype": "text/x-python",
   "name": "python",
   "nbconvert_exporter": "python",
   "pygments_lexer": "ipython3",
   "version": "3.8.3"
  }
 },
 "nbformat": 4,
 "nbformat_minor": 4
}
