{
 "cells": [
  {
   "cell_type": "markdown",
   "metadata": {},
   "source": [
    "# Objective\n",
    "\n",
    "Find any existing correlations between nuisances and property value. Our data set records traffic noise, airport noise, power lines, and a general 'other nuisances' category. We will take a look at each nuisance separately and at the end examine all nuisances as a whole to determine their individual and collective effect on property values.\n",
    "\n",
    "### Outline:\n",
    "- 1. Airport noise\n",
    "- 2. Traffic noise\n",
    "- 3. Power lines\n",
    "- 4. Other Nuisances\n",
    "- 5. Cumulative nuisances\n",
    "\n",
    "### Methods:\n",
    "- a. Subset data based on nuisance. We will have one set of sales for properties with no nuisances and another set of properties with the nuisance being examined.\n",
    "We will split the groups based on the specificity of the data provided. For instance, traffic noise data provides us with several numeric ratings for noise level ranging from 0 (for no noise) to 3 (extreme traffic noise). Other categories, like the presence of power lines, only give us a Y for yes and an N for no. All of the following examinations will use our filtered data, and so we will only be seeing the effect of nuisances on properties that were sold in 2019.\n",
    "\n",
    "- b. Comparison of sample descriptions. We will compare mean, median, and the distribution of our two sets of data to detect any changes.\n",
    "\n",
    "- c. If a change is found, we will perform t-tests to determine the significance of these effects (alpha = .05).\n",
    "\n",
    "### Set up\n",
    "\n",
    "First we will set up our project module paths, import all of our modules, and set the path of our dat folder. If you can't import any of these modules, make sure you create the project environment. Check the readme for details on this process."
   ]
  },
  {
   "cell_type": "code",
   "execution_count": 1,
   "metadata": {},
   "outputs": [],
   "source": [
    "#add auto reload for src function testing\n",
    "%load_ext autoreload\n",
    "%autoreload 2\n",
    "\n",
    "#let's add the project directory to our module path\n",
    "import os\n",
    "import sys\n",
    "\n",
    "module_path = os.path.abspath(os.path.join(os.pardir, os.pardir))\n",
    "if module_path not in sys.path:\n",
    "    sys.path.append(module_path)\n",
    "    \n",
    "    \n",
    "#also import all of our modules\n",
    "import pandas as pd\n",
    "import numpy as np\n",
    "from scipy import stats\n",
    "import matplotlib.pyplot as plt\n",
    "import seaborn as sns\n",
    "from src import data_cleaning\n",
    "from src import cm_functions\n",
    "\n",
    "#and here is our data directiory\n",
    "data_folder = '../../data/'"
   ]
  },
  {
   "cell_type": "markdown",
   "metadata": {},
   "source": [
    "### Data import\n",
    "\n",
    "We will be importing the filtered data that was created using the initial data cleaning notebook. Make sure you have run this notebook before continuing. For the purposes of this notebook, we will only need the sales and parcel data sets. We will then join these on their PIN columns."
   ]
  },
  {
   "cell_type": "code",
   "execution_count": 2,
   "metadata": {},
   "outputs": [],
   "source": [
    "sale=pd.read_csv(data_folder+'EXTR_RPSale_final.csv',dtype={'PIN':'string'})\n",
    "parcel=pd.read_csv(data_folder+'EXTR_Parcel_final.csv',dtype={'PIN':'string'})\n",
    "\n",
    "data = pd.merge(sale, parcel, on='PIN', how='inner')"
   ]
  },
  {
   "cell_type": "markdown",
   "metadata": {},
   "source": [
    "### Outlier elimination\n",
    "\n",
    "We will eliminate all outliers that fall outside of 3 standard deviations from the mean. We will use a z-score calculation. \n",
    "\n",
    "Here is the distibution before:"
   ]
  },
  {
   "cell_type": "code",
   "execution_count": 3,
   "metadata": {},
   "outputs": [
    {
     "data": {
      "text/plain": [
       "<matplotlib.axes._subplots.AxesSubplot at 0x7fe22c457640>"
      ]
     },
     "execution_count": 3,
     "metadata": {},
     "output_type": "execute_result"
    },
    {
     "data": {
      "image/png": "[encoded data removed]",
      "text/plain": [
       "<Figure size 432x288 with 1 Axes>"
      ]
     },
     "metadata": {
      "needs_background": "light"
     },
     "output_type": "display_data"
    }
   ],
   "source": [
    "sns.distplot(data.SalePrice)"
   ]
  },
  {
   "cell_type": "markdown",
   "metadata": {},
   "source": [
    "And here it is after:"
   ]
  },
  {
   "cell_type": "code",
   "execution_count": 4,
   "metadata": {},
   "outputs": [
    {
     "data": {
      "text/plain": [
       "<matplotlib.axes._subplots.AxesSubplot at 0x7fe1ffb192b0>"
      ]
     },
     "execution_count": 4,
     "metadata": {},
     "output_type": "execute_result"
    },
    {
     "data": {
      "image/png": "[encoded data removed]",
      "text/plain": [
       "<Figure size 432x288 with 1 Axes>"
      ]
     },
     "metadata": {
      "needs_background": "light"
     },
     "output_type": "display_data"
    }
   ],
   "source": [
    "z = np.abs(stats.zscore(data.SalePrice))\n",
    "no_outliers = data[z < 3]\n",
    "\n",
    "sns.distplot(no_outliers.SalePrice)"
   ]
  },
  {
   "cell_type": "code",
   "execution_count": 5,
   "metadata": {},
   "outputs": [],
   "source": [
    "# Overwriting the data variable with the no_outliers variable.\n",
    "data = no_outliers"
   ]
  },
  {
   "cell_type": "markdown",
   "metadata": {},
   "source": [
    "# 1. Airport Noise"
   ]
  },
  {
   "cell_type": "markdown",
   "metadata": {},
   "source": [
    "Let's take a look at the airport noise column in out data and see how many homes suffer from airport noise."
   ]
  },
  {
   "cell_type": "code",
   "execution_count": 6,
   "metadata": {},
   "outputs": [
    {
     "data": {
      "text/plain": [
       "0    28470\n",
       "Name: AirportNoise, dtype: int64"
      ]
     },
     "execution_count": 6,
     "metadata": {},
     "output_type": "execute_result"
    }
   ],
   "source": [
    "data.AirportNoise.value_counts()"
   ]
  },
  {
   "cell_type": "markdown",
   "metadata": {},
   "source": [
    "Our particular subset of data does not contain a single home that suffers from airport noise. We would need to look at a larger subset of data in order to investigate this claim further."
   ]
  },
  {
   "cell_type": "markdown",
   "metadata": {},
   "source": [
    "# 2. Traffic Noise"
   ]
  },
  {
   "cell_type": "code",
   "execution_count": 7,
   "metadata": {},
   "outputs": [
    {
     "data": {
      "text/plain": [
       "0    24509\n",
       "1     2311\n",
       "2     1401\n",
       "3      249\n",
       "Name: TrafficNoise, dtype: int64"
      ]
     },
     "execution_count": 7,
     "metadata": {},
     "output_type": "execute_result"
    }
   ],
   "source": [
    "data.TrafficNoise.value_counts()"
   ]
  },
  {
   "cell_type": "markdown",
   "metadata": {},
   "source": [
    "# a. Subset the data\n",
    "It looks like we do have a decent amount of homes so let's start off by splitting the data into a group with no traffic noise and a group with at least some traffic noise."
   ]
  },
  {
   "cell_type": "code",
   "execution_count": 8,
   "metadata": {},
   "outputs": [
    {
     "data": {
      "text/html": [
       "<div>\n",
       "<style scoped>\n",
       "    .dataframe tbody tr th:only-of-type {\n",
       "        vertical-align: middle;\n",
       "    }\n",
       "\n",
       "    .dataframe tbody tr th {\n",
       "        vertical-align: top;\n",
       "    }\n",
       "\n",
       "    .dataframe thead th {\n",
       "        text-align: right;\n",
       "    }\n",
       "</style>\n",
       "<table border=\"1\" class=\"dataframe\">\n",
       "  <thead>\n",
       "    <tr style=\"text-align: right;\">\n",
       "      <th></th>\n",
       "      <th>Unnamed: 0_x</th>\n",
       "      <th>ExciseTaxNbr</th>\n",
       "      <th>Major_x</th>\n",
       "      <th>Minor_x</th>\n",
       "      <th>DocumentDate</th>\n",
       "      <th>SalePrice</th>\n",
       "      <th>RecordingNbr</th>\n",
       "      <th>Volume</th>\n",
       "      <th>Page</th>\n",
       "      <th>PlatNbr</th>\n",
       "      <th>...</th>\n",
       "      <th>SeismicHazard</th>\n",
       "      <th>LandslideHazard</th>\n",
       "      <th>SteepSlopeHazard</th>\n",
       "      <th>Stream</th>\n",
       "      <th>Wetland</th>\n",
       "      <th>SpeciesOfConcern</th>\n",
       "      <th>SensitiveAreaTract</th>\n",
       "      <th>WaterProblems</th>\n",
       "      <th>TranspConcurrency</th>\n",
       "      <th>OtherProblems</th>\n",
       "    </tr>\n",
       "  </thead>\n",
       "  <tbody>\n",
       "    <tr>\n",
       "      <th>0</th>\n",
       "      <td>0</td>\n",
       "      <td>3027422</td>\n",
       "      <td>213043</td>\n",
       "      <td>120</td>\n",
       "      <td>2019-12-20</td>\n",
       "      <td>560000</td>\n",
       "      <td>20191226000848</td>\n",
       "      <td></td>\n",
       "      <td></td>\n",
       "      <td></td>\n",
       "      <td>...</td>\n",
       "      <td>N</td>\n",
       "      <td>N</td>\n",
       "      <td>N</td>\n",
       "      <td>N</td>\n",
       "      <td>N</td>\n",
       "      <td>N</td>\n",
       "      <td>N</td>\n",
       "      <td>N</td>\n",
       "      <td>N</td>\n",
       "      <td>N</td>\n",
       "    </tr>\n",
       "    <tr>\n",
       "      <th>1</th>\n",
       "      <td>1</td>\n",
       "      <td>3002257</td>\n",
       "      <td>940652</td>\n",
       "      <td>630</td>\n",
       "      <td>2019-07-22</td>\n",
       "      <td>435000</td>\n",
       "      <td>20190730001339</td>\n",
       "      <td></td>\n",
       "      <td></td>\n",
       "      <td></td>\n",
       "      <td>...</td>\n",
       "      <td>N</td>\n",
       "      <td>N</td>\n",
       "      <td>N</td>\n",
       "      <td>N</td>\n",
       "      <td>N</td>\n",
       "      <td>N</td>\n",
       "      <td>N</td>\n",
       "      <td>N</td>\n",
       "      <td>N</td>\n",
       "      <td>N</td>\n",
       "    </tr>\n",
       "    <tr>\n",
       "      <th>2</th>\n",
       "      <td>2</td>\n",
       "      <td>2993601</td>\n",
       "      <td>140281</td>\n",
       "      <td>20</td>\n",
       "      <td>2019-06-04</td>\n",
       "      <td>450000</td>\n",
       "      <td>20190614000489</td>\n",
       "      <td></td>\n",
       "      <td></td>\n",
       "      <td></td>\n",
       "      <td>...</td>\n",
       "      <td>N</td>\n",
       "      <td>N</td>\n",
       "      <td>N</td>\n",
       "      <td>N</td>\n",
       "      <td>N</td>\n",
       "      <td>N</td>\n",
       "      <td>N</td>\n",
       "      <td>N</td>\n",
       "      <td>N</td>\n",
       "      <td>N</td>\n",
       "    </tr>\n",
       "    <tr>\n",
       "      <th>4</th>\n",
       "      <td>4</td>\n",
       "      <td>2980648</td>\n",
       "      <td>797320</td>\n",
       "      <td>2320</td>\n",
       "      <td>2019-03-27</td>\n",
       "      <td>540000</td>\n",
       "      <td></td>\n",
       "      <td></td>\n",
       "      <td></td>\n",
       "      <td></td>\n",
       "      <td>...</td>\n",
       "      <td>N</td>\n",
       "      <td>N</td>\n",
       "      <td>N</td>\n",
       "      <td>N</td>\n",
       "      <td>N</td>\n",
       "      <td>N</td>\n",
       "      <td>N</td>\n",
       "      <td>N</td>\n",
       "      <td>N</td>\n",
       "      <td>N</td>\n",
       "    </tr>\n",
       "    <tr>\n",
       "      <th>5</th>\n",
       "      <td>5</td>\n",
       "      <td>2980836</td>\n",
       "      <td>937630</td>\n",
       "      <td>695</td>\n",
       "      <td>2019-03-28</td>\n",
       "      <td>550000</td>\n",
       "      <td>20190404001008</td>\n",
       "      <td></td>\n",
       "      <td></td>\n",
       "      <td></td>\n",
       "      <td>...</td>\n",
       "      <td>N</td>\n",
       "      <td>N</td>\n",
       "      <td>N</td>\n",
       "      <td>N</td>\n",
       "      <td>N</td>\n",
       "      <td>N</td>\n",
       "      <td>N</td>\n",
       "      <td>N</td>\n",
       "      <td>N</td>\n",
       "      <td>N</td>\n",
       "    </tr>\n",
       "    <tr>\n",
       "      <th>...</th>\n",
       "      <td>...</td>\n",
       "      <td>...</td>\n",
       "      <td>...</td>\n",
       "      <td>...</td>\n",
       "      <td>...</td>\n",
       "      <td>...</td>\n",
       "      <td>...</td>\n",
       "      <td>...</td>\n",
       "      <td>...</td>\n",
       "      <td>...</td>\n",
       "      <td>...</td>\n",
       "      <td>...</td>\n",
       "      <td>...</td>\n",
       "      <td>...</td>\n",
       "      <td>...</td>\n",
       "      <td>...</td>\n",
       "      <td>...</td>\n",
       "      <td>...</td>\n",
       "      <td>...</td>\n",
       "      <td>...</td>\n",
       "      <td>...</td>\n",
       "    </tr>\n",
       "    <tr>\n",
       "      <th>28614</th>\n",
       "      <td>28614</td>\n",
       "      <td>2972689</td>\n",
       "      <td>929085</td>\n",
       "      <td>760</td>\n",
       "      <td>2019-01-25</td>\n",
       "      <td>1205000</td>\n",
       "      <td>20190206001611</td>\n",
       "      <td></td>\n",
       "      <td></td>\n",
       "      <td></td>\n",
       "      <td>...</td>\n",
       "      <td>N</td>\n",
       "      <td>N</td>\n",
       "      <td>N</td>\n",
       "      <td>N</td>\n",
       "      <td>N</td>\n",
       "      <td>N</td>\n",
       "      <td>N</td>\n",
       "      <td>N</td>\n",
       "      <td>N</td>\n",
       "      <td>N</td>\n",
       "    </tr>\n",
       "    <tr>\n",
       "      <th>28615</th>\n",
       "      <td>28615</td>\n",
       "      <td>2992593</td>\n",
       "      <td>405940</td>\n",
       "      <td>95</td>\n",
       "      <td>2019-05-21</td>\n",
       "      <td>442000</td>\n",
       "      <td>20190607001670</td>\n",
       "      <td></td>\n",
       "      <td></td>\n",
       "      <td></td>\n",
       "      <td>...</td>\n",
       "      <td>N</td>\n",
       "      <td>N</td>\n",
       "      <td>N</td>\n",
       "      <td>N</td>\n",
       "      <td>N</td>\n",
       "      <td>N</td>\n",
       "      <td>N</td>\n",
       "      <td>N</td>\n",
       "      <td>N</td>\n",
       "      <td>N</td>\n",
       "    </tr>\n",
       "    <tr>\n",
       "      <th>28616</th>\n",
       "      <td>28616</td>\n",
       "      <td>3003079</td>\n",
       "      <td>381670</td>\n",
       "      <td>25</td>\n",
       "      <td>2019-07-22</td>\n",
       "      <td>680000</td>\n",
       "      <td>20190802000628</td>\n",
       "      <td></td>\n",
       "      <td></td>\n",
       "      <td></td>\n",
       "      <td>...</td>\n",
       "      <td>N</td>\n",
       "      <td>N</td>\n",
       "      <td>N</td>\n",
       "      <td>N</td>\n",
       "      <td>N</td>\n",
       "      <td>N</td>\n",
       "      <td>N</td>\n",
       "      <td>N</td>\n",
       "      <td>N</td>\n",
       "      <td>N</td>\n",
       "    </tr>\n",
       "    <tr>\n",
       "      <th>28617</th>\n",
       "      <td>28617</td>\n",
       "      <td>3025068</td>\n",
       "      <td>615020</td>\n",
       "      <td>505</td>\n",
       "      <td>2019-11-18</td>\n",
       "      <td>745000</td>\n",
       "      <td>20191212000602</td>\n",
       "      <td></td>\n",
       "      <td></td>\n",
       "      <td></td>\n",
       "      <td>...</td>\n",
       "      <td>N</td>\n",
       "      <td>N</td>\n",
       "      <td>N</td>\n",
       "      <td>N</td>\n",
       "      <td>N</td>\n",
       "      <td>N</td>\n",
       "      <td>N</td>\n",
       "      <td>N</td>\n",
       "      <td>N</td>\n",
       "      <td>N</td>\n",
       "    </tr>\n",
       "    <tr>\n",
       "      <th>28618</th>\n",
       "      <td>28618</td>\n",
       "      <td>3028691</td>\n",
       "      <td>277110</td>\n",
       "      <td>4239</td>\n",
       "      <td>2019-12-19</td>\n",
       "      <td>955000</td>\n",
       "      <td>20200103000685</td>\n",
       "      <td></td>\n",
       "      <td></td>\n",
       "      <td></td>\n",
       "      <td>...</td>\n",
       "      <td>N</td>\n",
       "      <td>N</td>\n",
       "      <td>N</td>\n",
       "      <td>N</td>\n",
       "      <td>N</td>\n",
       "      <td>N</td>\n",
       "      <td>N</td>\n",
       "      <td>N</td>\n",
       "      <td>N</td>\n",
       "      <td>N</td>\n",
       "    </tr>\n",
       "  </tbody>\n",
       "</table>\n",
       "<p>24509 rows × 108 columns</p>\n",
       "</div>"
      ],
      "text/plain": [
       "       Unnamed: 0_x  ExciseTaxNbr  Major_x  Minor_x DocumentDate  SalePrice  \\\n",
       "0                 0       3027422   213043      120   2019-12-20     560000   \n",
       "1                 1       3002257   940652      630   2019-07-22     435000   \n",
       "2                 2       2993601   140281       20   2019-06-04     450000   \n",
       "4                 4       2980648   797320     2320   2019-03-27     540000   \n",
       "5                 5       2980836   937630      695   2019-03-28     550000   \n",
       "...             ...           ...      ...      ...          ...        ...   \n",
       "28614         28614       2972689   929085      760   2019-01-25    1205000   \n",
       "28615         28615       2992593   405940       95   2019-05-21     442000   \n",
       "28616         28616       3003079   381670       25   2019-07-22     680000   \n",
       "28617         28617       3025068   615020      505   2019-11-18     745000   \n",
       "28618         28618       3028691   277110     4239   2019-12-19     955000   \n",
       "\n",
       "         RecordingNbr Volume Page PlatNbr  ... SeismicHazard LandslideHazard  \\\n",
       "0      20191226000848                      ...             N               N   \n",
       "1      20190730001339                      ...             N               N   \n",
       "2      20190614000489                      ...             N               N   \n",
       "4                                          ...             N               N   \n",
       "5      20190404001008                      ...             N               N   \n",
       "...               ...    ...  ...     ...  ...           ...             ...   \n",
       "28614  20190206001611                      ...             N               N   \n",
       "28615  20190607001670                      ...             N               N   \n",
       "28616  20190802000628                      ...             N               N   \n",
       "28617  20191212000602                      ...             N               N   \n",
       "28618  20200103000685                      ...             N               N   \n",
       "\n",
       "      SteepSlopeHazard Stream Wetland  SpeciesOfConcern  SensitiveAreaTract  \\\n",
       "0                    N      N       N                 N                   N   \n",
       "1                    N      N       N                 N                   N   \n",
       "2                    N      N       N                 N                   N   \n",
       "4                    N      N       N                 N                   N   \n",
       "5                    N      N       N                 N                   N   \n",
       "...                ...    ...     ...               ...                 ...   \n",
       "28614                N      N       N                 N                   N   \n",
       "28615                N      N       N                 N                   N   \n",
       "28616                N      N       N                 N                   N   \n",
       "28617                N      N       N                 N                   N   \n",
       "28618                N      N       N                 N                   N   \n",
       "\n",
       "       WaterProblems TranspConcurrency OtherProblems  \n",
       "0                  N                 N             N  \n",
       "1                  N                 N             N  \n",
       "2                  N                 N             N  \n",
       "4                  N                 N             N  \n",
       "5                  N                 N             N  \n",
       "...              ...               ...           ...  \n",
       "28614              N                 N             N  \n",
       "28615              N                 N             N  \n",
       "28616              N                 N             N  \n",
       "28617              N                 N             N  \n",
       "28618              N                 N             N  \n",
       "\n",
       "[24509 rows x 108 columns]"
      ]
     },
     "execution_count": 8,
     "metadata": {},
     "output_type": "execute_result"
    }
   ],
   "source": [
    "no_traffic = data[data['TrafficNoise']==0]\n",
    "traffic = data[data['TrafficNoise']>0]\n",
    "\n",
    "no_traffic"
   ]
  },
  {
   "cell_type": "code",
   "execution_count": 9,
   "metadata": {},
   "outputs": [
    {
     "data": {
      "text/html": [
       "<div>\n",
       "<style scoped>\n",
       "    .dataframe tbody tr th:only-of-type {\n",
       "        vertical-align: middle;\n",
       "    }\n",
       "\n",
       "    .dataframe tbody tr th {\n",
       "        vertical-align: top;\n",
       "    }\n",
       "\n",
       "    .dataframe thead th {\n",
       "        text-align: right;\n",
       "    }\n",
       "</style>\n",
       "<table border=\"1\" class=\"dataframe\">\n",
       "  <thead>\n",
       "    <tr style=\"text-align: right;\">\n",
       "      <th></th>\n",
       "      <th>Unnamed: 0_x</th>\n",
       "      <th>ExciseTaxNbr</th>\n",
       "      <th>Major_x</th>\n",
       "      <th>Minor_x</th>\n",
       "      <th>DocumentDate</th>\n",
       "      <th>SalePrice</th>\n",
       "      <th>RecordingNbr</th>\n",
       "      <th>Volume</th>\n",
       "      <th>Page</th>\n",
       "      <th>PlatNbr</th>\n",
       "      <th>...</th>\n",
       "      <th>SeismicHazard</th>\n",
       "      <th>LandslideHazard</th>\n",
       "      <th>SteepSlopeHazard</th>\n",
       "      <th>Stream</th>\n",
       "      <th>Wetland</th>\n",
       "      <th>SpeciesOfConcern</th>\n",
       "      <th>SensitiveAreaTract</th>\n",
       "      <th>WaterProblems</th>\n",
       "      <th>TranspConcurrency</th>\n",
       "      <th>OtherProblems</th>\n",
       "    </tr>\n",
       "  </thead>\n",
       "  <tbody>\n",
       "    <tr>\n",
       "      <th>3</th>\n",
       "      <td>3</td>\n",
       "      <td>3015264</td>\n",
       "      <td>124550</td>\n",
       "      <td>98</td>\n",
       "      <td>2019-09-27</td>\n",
       "      <td>193000</td>\n",
       "      <td>20191015000395</td>\n",
       "      <td></td>\n",
       "      <td></td>\n",
       "      <td></td>\n",
       "      <td>...</td>\n",
       "      <td>N</td>\n",
       "      <td>N</td>\n",
       "      <td>N</td>\n",
       "      <td>N</td>\n",
       "      <td>N</td>\n",
       "      <td>N</td>\n",
       "      <td>N</td>\n",
       "      <td>N</td>\n",
       "      <td>N</td>\n",
       "      <td>N</td>\n",
       "    </tr>\n",
       "    <tr>\n",
       "      <th>15</th>\n",
       "      <td>15</td>\n",
       "      <td>2972836</td>\n",
       "      <td>292205</td>\n",
       "      <td>9091</td>\n",
       "      <td>2019-02-01</td>\n",
       "      <td>400000</td>\n",
       "      <td></td>\n",
       "      <td></td>\n",
       "      <td></td>\n",
       "      <td></td>\n",
       "      <td>...</td>\n",
       "      <td>N</td>\n",
       "      <td>N</td>\n",
       "      <td>N</td>\n",
       "      <td>N</td>\n",
       "      <td>N</td>\n",
       "      <td>N</td>\n",
       "      <td>N</td>\n",
       "      <td>N</td>\n",
       "      <td>N</td>\n",
       "      <td>N</td>\n",
       "    </tr>\n",
       "    <tr>\n",
       "      <th>17</th>\n",
       "      <td>17</td>\n",
       "      <td>2986074</td>\n",
       "      <td>668990</td>\n",
       "      <td>20</td>\n",
       "      <td>2019-04-30</td>\n",
       "      <td>780000</td>\n",
       "      <td>20190503001148</td>\n",
       "      <td></td>\n",
       "      <td></td>\n",
       "      <td></td>\n",
       "      <td>...</td>\n",
       "      <td>N</td>\n",
       "      <td>N</td>\n",
       "      <td>N</td>\n",
       "      <td>N</td>\n",
       "      <td>N</td>\n",
       "      <td>N</td>\n",
       "      <td>N</td>\n",
       "      <td>N</td>\n",
       "      <td>N</td>\n",
       "      <td>N</td>\n",
       "    </tr>\n",
       "    <tr>\n",
       "      <th>36</th>\n",
       "      <td>36</td>\n",
       "      <td>2992999</td>\n",
       "      <td>407320</td>\n",
       "      <td>60</td>\n",
       "      <td>2019-06-05</td>\n",
       "      <td>1495000</td>\n",
       "      <td>20190611001065</td>\n",
       "      <td></td>\n",
       "      <td></td>\n",
       "      <td></td>\n",
       "      <td>...</td>\n",
       "      <td>N</td>\n",
       "      <td>N</td>\n",
       "      <td>N</td>\n",
       "      <td>N</td>\n",
       "      <td>N</td>\n",
       "      <td>N</td>\n",
       "      <td>N</td>\n",
       "      <td>N</td>\n",
       "      <td>N</td>\n",
       "      <td>N</td>\n",
       "    </tr>\n",
       "    <tr>\n",
       "      <th>37</th>\n",
       "      <td>37</td>\n",
       "      <td>3004196</td>\n",
       "      <td>232205</td>\n",
       "      <td>9119</td>\n",
       "      <td>2019-08-01</td>\n",
       "      <td>590000</td>\n",
       "      <td>20190809001070</td>\n",
       "      <td></td>\n",
       "      <td></td>\n",
       "      <td></td>\n",
       "      <td>...</td>\n",
       "      <td>N</td>\n",
       "      <td>N</td>\n",
       "      <td>N</td>\n",
       "      <td>N</td>\n",
       "      <td>N</td>\n",
       "      <td>N</td>\n",
       "      <td>N</td>\n",
       "      <td>N</td>\n",
       "      <td>N</td>\n",
       "      <td>N</td>\n",
       "    </tr>\n",
       "    <tr>\n",
       "      <th>...</th>\n",
       "      <td>...</td>\n",
       "      <td>...</td>\n",
       "      <td>...</td>\n",
       "      <td>...</td>\n",
       "      <td>...</td>\n",
       "      <td>...</td>\n",
       "      <td>...</td>\n",
       "      <td>...</td>\n",
       "      <td>...</td>\n",
       "      <td>...</td>\n",
       "      <td>...</td>\n",
       "      <td>...</td>\n",
       "      <td>...</td>\n",
       "      <td>...</td>\n",
       "      <td>...</td>\n",
       "      <td>...</td>\n",
       "      <td>...</td>\n",
       "      <td>...</td>\n",
       "      <td>...</td>\n",
       "      <td>...</td>\n",
       "      <td>...</td>\n",
       "    </tr>\n",
       "    <tr>\n",
       "      <th>28578</th>\n",
       "      <td>28578</td>\n",
       "      <td>2996393</td>\n",
       "      <td>675250</td>\n",
       "      <td>10</td>\n",
       "      <td>2019-06-24</td>\n",
       "      <td>1820000</td>\n",
       "      <td>20190628000406</td>\n",
       "      <td></td>\n",
       "      <td></td>\n",
       "      <td></td>\n",
       "      <td>...</td>\n",
       "      <td>N</td>\n",
       "      <td>N</td>\n",
       "      <td>N</td>\n",
       "      <td>N</td>\n",
       "      <td>N</td>\n",
       "      <td>N</td>\n",
       "      <td>N</td>\n",
       "      <td>N</td>\n",
       "      <td>N</td>\n",
       "      <td>N</td>\n",
       "    </tr>\n",
       "    <tr>\n",
       "      <th>28586</th>\n",
       "      <td>28586</td>\n",
       "      <td>3025378</td>\n",
       "      <td>221300</td>\n",
       "      <td>45</td>\n",
       "      <td>2019-12-09</td>\n",
       "      <td>1075000</td>\n",
       "      <td>20191213000586</td>\n",
       "      <td></td>\n",
       "      <td></td>\n",
       "      <td></td>\n",
       "      <td>...</td>\n",
       "      <td>N</td>\n",
       "      <td>N</td>\n",
       "      <td>N</td>\n",
       "      <td>N</td>\n",
       "      <td>N</td>\n",
       "      <td>N</td>\n",
       "      <td>N</td>\n",
       "      <td>N</td>\n",
       "      <td>N</td>\n",
       "      <td>N</td>\n",
       "    </tr>\n",
       "    <tr>\n",
       "      <th>28602</th>\n",
       "      <td>28602</td>\n",
       "      <td>3017740</td>\n",
       "      <td>386040</td>\n",
       "      <td>235</td>\n",
       "      <td>2019-10-23</td>\n",
       "      <td>1100000</td>\n",
       "      <td>20191029000733</td>\n",
       "      <td></td>\n",
       "      <td></td>\n",
       "      <td></td>\n",
       "      <td>...</td>\n",
       "      <td>N</td>\n",
       "      <td>N</td>\n",
       "      <td>N</td>\n",
       "      <td>N</td>\n",
       "      <td>N</td>\n",
       "      <td>N</td>\n",
       "      <td>N</td>\n",
       "      <td>N</td>\n",
       "      <td>N</td>\n",
       "      <td>N</td>\n",
       "    </tr>\n",
       "    <tr>\n",
       "      <th>28608</th>\n",
       "      <td>28608</td>\n",
       "      <td>3004977</td>\n",
       "      <td>572750</td>\n",
       "      <td>100</td>\n",
       "      <td>2019-05-08</td>\n",
       "      <td>3900</td>\n",
       "      <td>20190815000438</td>\n",
       "      <td></td>\n",
       "      <td></td>\n",
       "      <td></td>\n",
       "      <td>...</td>\n",
       "      <td>N</td>\n",
       "      <td>N</td>\n",
       "      <td>N</td>\n",
       "      <td>N</td>\n",
       "      <td>N</td>\n",
       "      <td>N</td>\n",
       "      <td>N</td>\n",
       "      <td>N</td>\n",
       "      <td>N</td>\n",
       "      <td>N</td>\n",
       "    </tr>\n",
       "    <tr>\n",
       "      <th>28609</th>\n",
       "      <td>28609</td>\n",
       "      <td>2993049</td>\n",
       "      <td>436520</td>\n",
       "      <td>5</td>\n",
       "      <td>2019-06-10</td>\n",
       "      <td>395000</td>\n",
       "      <td>20190611001327</td>\n",
       "      <td></td>\n",
       "      <td></td>\n",
       "      <td></td>\n",
       "      <td>...</td>\n",
       "      <td>N</td>\n",
       "      <td>N</td>\n",
       "      <td>N</td>\n",
       "      <td>N</td>\n",
       "      <td>N</td>\n",
       "      <td>N</td>\n",
       "      <td>N</td>\n",
       "      <td>N</td>\n",
       "      <td>N</td>\n",
       "      <td>N</td>\n",
       "    </tr>\n",
       "  </tbody>\n",
       "</table>\n",
       "<p>3961 rows × 108 columns</p>\n",
       "</div>"
      ],
      "text/plain": [
       "       Unnamed: 0_x  ExciseTaxNbr  Major_x  Minor_x DocumentDate  SalePrice  \\\n",
       "3                 3       3015264   124550       98   2019-09-27     193000   \n",
       "15               15       2972836   292205     9091   2019-02-01     400000   \n",
       "17               17       2986074   668990       20   2019-04-30     780000   \n",
       "36               36       2992999   407320       60   2019-06-05    1495000   \n",
       "37               37       3004196   232205     9119   2019-08-01     590000   \n",
       "...             ...           ...      ...      ...          ...        ...   \n",
       "28578         28578       2996393   675250       10   2019-06-24    1820000   \n",
       "28586         28586       3025378   221300       45   2019-12-09    1075000   \n",
       "28602         28602       3017740   386040      235   2019-10-23    1100000   \n",
       "28608         28608       3004977   572750      100   2019-05-08       3900   \n",
       "28609         28609       2993049   436520        5   2019-06-10     395000   \n",
       "\n",
       "         RecordingNbr Volume Page PlatNbr  ... SeismicHazard LandslideHazard  \\\n",
       "3      20191015000395                      ...             N               N   \n",
       "15                                         ...             N               N   \n",
       "17     20190503001148                      ...             N               N   \n",
       "36     20190611001065                      ...             N               N   \n",
       "37     20190809001070                      ...             N               N   \n",
       "...               ...    ...  ...     ...  ...           ...             ...   \n",
       "28578  20190628000406                      ...             N               N   \n",
       "28586  20191213000586                      ...             N               N   \n",
       "28602  20191029000733                      ...             N               N   \n",
       "28608  20190815000438                      ...             N               N   \n",
       "28609  20190611001327                      ...             N               N   \n",
       "\n",
       "      SteepSlopeHazard Stream Wetland  SpeciesOfConcern  SensitiveAreaTract  \\\n",
       "3                    N      N       N                 N                   N   \n",
       "15                   N      N       N                 N                   N   \n",
       "17                   N      N       N                 N                   N   \n",
       "36                   N      N       N                 N                   N   \n",
       "37                   N      N       N                 N                   N   \n",
       "...                ...    ...     ...               ...                 ...   \n",
       "28578                N      N       N                 N                   N   \n",
       "28586                N      N       N                 N                   N   \n",
       "28602                N      N       N                 N                   N   \n",
       "28608                N      N       N                 N                   N   \n",
       "28609                N      N       N                 N                   N   \n",
       "\n",
       "       WaterProblems TranspConcurrency OtherProblems  \n",
       "3                  N                 N             N  \n",
       "15                 N                 N             N  \n",
       "17                 N                 N             N  \n",
       "36                 N                 N             N  \n",
       "37                 N                 N             N  \n",
       "...              ...               ...           ...  \n",
       "28578              N                 N             N  \n",
       "28586              N                 N             N  \n",
       "28602              N                 N             N  \n",
       "28608              N                 N             N  \n",
       "28609              N                 N             N  \n",
       "\n",
       "[3961 rows x 108 columns]"
      ]
     },
     "execution_count": 9,
     "metadata": {},
     "output_type": "execute_result"
    }
   ],
   "source": [
    "traffic"
   ]
  },
  {
   "cell_type": "code",
   "execution_count": 10,
   "metadata": {},
   "outputs": [
    {
     "name": "stdout",
     "output_type": "stream",
     "text": [
      "13.91% of our data represents homes that suffer from traffic noise.\n"
     ]
    }
   ],
   "source": [
    "total_count = len(data)\n",
    "traffic_count = len(traffic)\n",
    "\n",
    "print(f'{round((traffic_count/total_count)*100, 2)}% of our data represents homes that suffer from traffic noise.')"
   ]
  },
  {
   "cell_type": "markdown",
   "metadata": {},
   "source": [
    "# b. Compare\n",
    "### Median Comparison"
   ]
  },
  {
   "cell_type": "code",
   "execution_count": 11,
   "metadata": {},
   "outputs": [
    {
     "name": "stdout",
     "output_type": "stream",
     "text": [
      "median value of homes w/ traffic: 650000.0\n",
      "\n",
      "median value of homes w/o traffic: 655000.0\n",
      "\n",
      "Homes that don't suffer from traffic noise have a median value of about $5000.0 higher than homes that do suffer from traffic noise.\n"
     ]
    }
   ],
   "source": [
    "traffic_med = traffic.SalePrice.median()\n",
    "no_traffic_med = no_traffic.SalePrice.median()\n",
    "\n",
    "\n",
    "print(f'median value of homes w/ traffic: {traffic_med}\\n')\n",
    "print(f'median value of homes w/o traffic: {no_traffic_med}\\n')\n",
    "\n",
    "print(f'Homes that don\\'t suffer from traffic noise have a median value of about ${abs(traffic_med-no_traffic_med)} higher than homes that do suffer from traffic noise.')"
   ]
  },
  {
   "cell_type": "code",
   "execution_count": 12,
   "metadata": {},
   "outputs": [
    {
     "data": {
      "text/plain": [
       "<matplotlib.axes._subplots.AxesSubplot at 0x7fe1fe6c2130>"
      ]
     },
     "execution_count": 12,
     "metadata": {},
     "output_type": "execute_result"
    },
    {
     "data": {
      "image/png": "[encoded data removed]",
      "text/plain": [
       "<Figure size 432x432 with 1 Axes>"
      ]
     },
     "metadata": {
      "needs_background": "light"
     },
     "output_type": "display_data"
    }
   ],
   "source": [
    "fig, ax = plt.subplots(1,1,figsize=(6,6))\n",
    "\n",
    "sns.barplot(x=['Homes w/ No Traffic Noise', 'Homes w/ Traffic Noise'],y=[no_traffic_med, traffic_med], ax=ax)"
   ]
  },
  {
   "cell_type": "markdown",
   "metadata": {},
   "source": [
    "### Mean Comparison"
   ]
  },
  {
   "cell_type": "markdown",
   "metadata": {},
   "source": [
    "Out of curiosity, we'll check the mean, though this will likely be skewed because of the size difference between the data sets."
   ]
  },
  {
   "cell_type": "code",
   "execution_count": 13,
   "metadata": {},
   "outputs": [
    {
     "name": "stdout",
     "output_type": "stream",
     "text": [
      "Mean value of homes w/ traffic: 778932.4319616258\n",
      "\n",
      "Mean value of homes w/o traffic: 774288.7987677996\n",
      "\n",
      "Homes that suffer from traffic noise have a mean value of about $4643.63 higher than homes that don't suffer from traffic noise.\n"
     ]
    }
   ],
   "source": [
    "traffic_mean = traffic.SalePrice.mean()\n",
    "no_traffic_mean = no_traffic.SalePrice.mean()\n",
    "mean_dif = round(abs(traffic_mean-no_traffic_mean), 2)\n",
    "\n",
    "print(f'Mean value of homes w/ traffic: {traffic_mean}\\n')\n",
    "print(f'Mean value of homes w/o traffic: {no_traffic_mean}\\n')\n",
    "\n",
    "print(f'Homes that suffer from traffic noise have a mean value of about ${mean_dif} higher than homes that don\\'t suffer from traffic noise.')"
   ]
  },
  {
   "cell_type": "code",
   "execution_count": 14,
   "metadata": {},
   "outputs": [
    {
     "data": {
      "image/png": "[encoded data removed]",
      "text/plain": [
       "<Figure size 432x432 with 1 Axes>"
      ]
     },
     "metadata": {
      "needs_background": "light"
     },
     "output_type": "display_data"
    }
   ],
   "source": [
    "fig, ax = plt.subplots(1,1,figsize=(6,6))\n",
    "\n",
    "sns.barplot(x=['Homes w/ No Traffic Noise', 'Homes w/ Traffic Noise'],y=[no_traffic_mean, traffic_mean], ax=ax);"
   ]
  },
  {
   "cell_type": "markdown",
   "metadata": {},
   "source": [
    "### Distribution comparison"
   ]
  },
  {
   "cell_type": "code",
   "execution_count": 15,
   "metadata": {},
   "outputs": [
    {
     "data": {
      "image/png": "[encoded data removed]",
      "text/plain": [
       "<Figure size 792x792 with 1 Axes>"
      ]
     },
     "metadata": {
      "needs_background": "light"
     },
     "output_type": "display_data"
    }
   ],
   "source": [
    "fig, ax = plt.subplots(1,1,figsize=(11,11))\n",
    "\n",
    "sns.distplot(traffic.SalePrice, ax=ax, color='orange', label='Traffic Noise')\n",
    "sns.distplot(no_traffic.SalePrice, ax=ax, color='blue', label='No Traffic Noise')\n",
    "ax.legend()\n",
    "ax.set_title('Comparison of Distributions');"
   ]
  },
  {
   "cell_type": "markdown",
   "metadata": {},
   "source": [
    "In the plot above, the distribution of home prices for homes with traffic noise is shown in orange and the distribution for homes with no traffic noise is shown in blue. You can see that the distributions are nearly identical with the exception of a small spike in low valued homes that suffer from traffic noise, as indicated by the yellow bar sticking up above 0 on the x axis."
   ]
  },
  {
   "cell_type": "markdown",
   "metadata": {},
   "source": [
    "## Further investigation"
   ]
  },
  {
   "cell_type": "markdown",
   "metadata": {},
   "source": [
    "Looking at the look up table, traffic noises are recorded as follows:\n",
    "\n",
    "\n",
    "0. no traffic noise\n",
    "1. moderate noise level\n",
    "2. high noise level \n",
    "3. extreme noise level\n",
    "\n",
    "We will repeat the process above, but with each iteration we will separate the groups differently. We will check homes that suffer from high traffic noise and homes that suffer from extreme traffic noise."
   ]
  },
  {
   "cell_type": "markdown",
   "metadata": {},
   "source": [
    "# Noise level 2 or greater\n",
    "\n",
    "# a. Subset"
   ]
  },
  {
   "cell_type": "code",
   "execution_count": 16,
   "metadata": {},
   "outputs": [
    {
     "name": "stdout",
     "output_type": "stream",
     "text": [
      "5.8% of our data represents homes that suffer from moderate traffic noise or greater.\n"
     ]
    }
   ],
   "source": [
    "traffic = data[data.TrafficNoise>=2]\n",
    "no_traffic = data[data.TrafficNoise<2]\n",
    "\n",
    "total_count = len(data)\n",
    "traffic_count = len(traffic)\n",
    "\n",
    "print(f'{round((traffic_count/total_count)*100, 2)}% of our data represents homes that suffer from moderate traffic noise or greater.')"
   ]
  },
  {
   "cell_type": "markdown",
   "metadata": {},
   "source": [
    "# b. Compare\n",
    "### Median Comparison"
   ]
  },
  {
   "cell_type": "code",
   "execution_count": 17,
   "metadata": {},
   "outputs": [
    {
     "name": "stdout",
     "output_type": "stream",
     "text": [
      "Mean value of homes w/ traffic: 650000.0\n",
      "\n",
      "Mean value of homes w/o traffic: 655000.0\n",
      "\n",
      "Homes that suffer don't from traffic noise have a mean value of about $5000.0 higher than homes that suffer from traffic noise.\n"
     ]
    }
   ],
   "source": [
    "\n",
    "\n",
    "traffic_med = traffic.SalePrice.median()\n",
    "no_traffic_med = no_traffic.SalePrice.median()\n",
    "mean_dif = round(abs(traffic_med-no_traffic_med), 2)\n",
    "\n",
    "print(f'Mean value of homes w/ traffic: {traffic_med}\\n')\n",
    "print(f'Mean value of homes w/o traffic: {no_traffic_med}\\n')\n",
    "\n",
    "print(f'Homes that suffer don\\'t from traffic noise have a mean value of about ${mean_dif} higher than homes that suffer from traffic noise.')"
   ]
  },
  {
   "cell_type": "code",
   "execution_count": 18,
   "metadata": {},
   "outputs": [
    {
     "data": {
      "image/png": "[encoded data removed]",
      "text/plain": [
       "<Figure size 432x432 with 1 Axes>"
      ]
     },
     "metadata": {
      "needs_background": "light"
     },
     "output_type": "display_data"
    }
   ],
   "source": [
    "fig, ax = plt.subplots(1,1,figsize=(6,6))\n",
    "\n",
    "sns.barplot(x=['Homes w/ Little Traffic Noise', 'Homes w/ High Traffic Noise'],y=[no_traffic_med, traffic_med], ax=ax);"
   ]
  },
  {
   "cell_type": "markdown",
   "metadata": {},
   "source": [
    "### Mean Comparison"
   ]
  },
  {
   "cell_type": "code",
   "execution_count": 19,
   "metadata": {},
   "outputs": [
    {
     "name": "stdout",
     "output_type": "stream",
     "text": [
      "Mean value of homes w/ traffic: 769172.3745454545\n",
      "\n",
      "Mean value of homes w/o traffic: 775289.377852349\n",
      "\n",
      "Homes that don't suffer from traffic noise have a mean value of about $6117.0 higher than homes that suffer from traffic noise.\n"
     ]
    }
   ],
   "source": [
    "traffic_mean = traffic.SalePrice.mean()\n",
    "no_traffic_mean = no_traffic.SalePrice.mean()\n",
    "mean_dif = round(abs(traffic_mean-no_traffic_mean), 2)\n",
    "\n",
    "print(f'Mean value of homes w/ traffic: {traffic_mean}\\n')\n",
    "print(f'Mean value of homes w/o traffic: {no_traffic_mean}\\n')\n",
    "\n",
    "print(f'Homes that don\\'t suffer from traffic noise have a mean value of about ${mean_dif} higher than homes that suffer from traffic noise.')"
   ]
  },
  {
   "cell_type": "code",
   "execution_count": 20,
   "metadata": {},
   "outputs": [
    {
     "data": {
      "image/png": "[encoded data removed]",
      "text/plain": [
       "<Figure size 432x432 with 1 Axes>"
      ]
     },
     "metadata": {
      "needs_background": "light"
     },
     "output_type": "display_data"
    }
   ],
   "source": [
    "fig, ax = plt.subplots(1,1,figsize=(6,6))\n",
    "\n",
    "sns.barplot(x=['Homes w/ No Traffic Noise', 'Homes w/ Traffic Noise'],y=[no_traffic_mean, traffic_mean], ax=ax);"
   ]
  },
  {
   "cell_type": "markdown",
   "metadata": {},
   "source": [
    "### Distribution comparison"
   ]
  },
  {
   "cell_type": "code",
   "execution_count": 21,
   "metadata": {},
   "outputs": [
    {
     "data": {
      "image/png": "[encoded data removed]",
      "text/plain": [
       "<Figure size 792x792 with 1 Axes>"
      ]
     },
     "metadata": {
      "needs_background": "light"
     },
     "output_type": "display_data"
    }
   ],
   "source": [
    "fig, ax = plt.subplots(1,1,figsize=(11,11))\n",
    "\n",
    "sns.distplot(traffic.SalePrice, ax=ax, color='orange', label='Traffic Noise')\n",
    "sns.distplot(no_traffic.SalePrice, ax=ax, color='blue', label='No Traffic Noise')\n",
    "ax.legend()\n",
    "ax.set_title('Comparison of Distributions');"
   ]
  },
  {
   "cell_type": "markdown",
   "metadata": {},
   "source": [
    "# Noise level 3 or greater\n",
    "\n",
    "# a. Subset"
   ]
  },
  {
   "cell_type": "code",
   "execution_count": 22,
   "metadata": {},
   "outputs": [
    {
     "name": "stdout",
     "output_type": "stream",
     "text": [
      "0.87% of our data represents homes that suffer from extreme traffic noise or greater.\n"
     ]
    }
   ],
   "source": [
    "traffic = data[data.TrafficNoise>=3]\n",
    "no_traffic = data[data.TrafficNoise<3]\n",
    "\n",
    "total_count = len(data)\n",
    "traffic_count = len(traffic)\n",
    "\n",
    "print(f'{round((traffic_count/total_count)*100, 2)}% of our data represents homes that suffer from extreme traffic noise or greater.')"
   ]
  },
  {
   "cell_type": "markdown",
   "metadata": {},
   "source": [
    "# b. Compare\n",
    "### Median Comparison"
   ]
  },
  {
   "cell_type": "code",
   "execution_count": 23,
   "metadata": {},
   "outputs": [
    {
     "name": "stdout",
     "output_type": "stream",
     "text": [
      "Mean value of homes w/ traffic: 650000.0\n",
      "\n",
      "Mean value of homes w/o traffic: 655000.0\n",
      "\n",
      "Homes that suffer don't from traffic noise have a mean value of about $5000.0 higher than homes that suffer from traffic noise.\n"
     ]
    }
   ],
   "source": [
    "traffic_med = traffic.SalePrice.median()\n",
    "no_traffic_med = no_traffic.SalePrice.median()\n",
    "mean_dif = round(abs(traffic_med-no_traffic_med), 2)\n",
    "\n",
    "print(f'Mean value of homes w/ traffic: {traffic_med}\\n')\n",
    "print(f'Mean value of homes w/o traffic: {no_traffic_med}\\n')\n",
    "\n",
    "print(f'Homes that suffer don\\'t from traffic noise have a mean value of about ${mean_dif} higher than homes that suffer from traffic noise.')"
   ]
  },
  {
   "cell_type": "code",
   "execution_count": 24,
   "metadata": {},
   "outputs": [
    {
     "data": {
      "image/png": "[encoded data removed]",
      "text/plain": [
       "<Figure size 432x432 with 1 Axes>"
      ]
     },
     "metadata": {
      "needs_background": "light"
     },
     "output_type": "display_data"
    }
   ],
   "source": [
    "fig, ax = plt.subplots(1,1,figsize=(6,6))\n",
    "\n",
    "sns.barplot(x=['Homes w/ Little Traffic Noise', 'Homes w/ High Traffic Noise'],y=[no_traffic_med, traffic_med], ax=ax);"
   ]
  },
  {
   "cell_type": "markdown",
   "metadata": {},
   "source": [
    "### Mean Comparison"
   ]
  },
  {
   "cell_type": "code",
   "execution_count": 25,
   "metadata": {},
   "outputs": [
    {
     "name": "stdout",
     "output_type": "stream",
     "text": [
      "Mean value of homes w/ traffic: 742474.3654618474\n",
      "\n",
      "Mean value of homes w/o traffic: 775221.2683817015\n",
      "\n",
      "Homes that don't suffer from extreme traffic noise have a mean value of about $32746.9 higher than homes that suffer from extreme traffic noise.\n"
     ]
    }
   ],
   "source": [
    "traffic_mean = traffic.SalePrice.mean()\n",
    "no_traffic_mean = no_traffic.SalePrice.mean()\n",
    "mean_dif = round(abs(traffic_mean-no_traffic_mean), 2)\n",
    "\n",
    "print(f'Mean value of homes w/ traffic: {traffic_mean}\\n')\n",
    "print(f'Mean value of homes w/o traffic: {no_traffic_mean}\\n')\n",
    "\n",
    "print(f'Homes that don\\'t suffer from extreme traffic noise have a mean value of about ${mean_dif} higher than homes that suffer from extreme traffic noise.')"
   ]
  },
  {
   "cell_type": "code",
   "execution_count": 26,
   "metadata": {},
   "outputs": [
    {
     "data": {
      "image/png": "[encoded data removed]",
      "text/plain": [
       "<Figure size 432x432 with 1 Axes>"
      ]
     },
     "metadata": {
      "needs_background": "light"
     },
     "output_type": "display_data"
    }
   ],
   "source": [
    "fig, ax = plt.subplots(1,1,figsize=(6,6))\n",
    "\n",
    "sns.barplot(x=['Homes w/ No Traffic Noise', 'Homes w/ Traffic Noise'],y=[no_traffic_mean, traffic_mean], ax=ax);"
   ]
  },
  {
   "cell_type": "markdown",
   "metadata": {},
   "source": [
    "### Distribution comparison"
   ]
  },
  {
   "cell_type": "code",
   "execution_count": 27,
   "metadata": {},
   "outputs": [
    {
     "data": {
      "image/png": "[encoded data removed]",
      "text/plain": [
       "<Figure size 792x792 with 1 Axes>"
      ]
     },
     "metadata": {
      "needs_background": "light"
     },
     "output_type": "display_data"
    }
   ],
   "source": [
    "fig, ax = plt.subplots(1,1,figsize=(11,11))\n",
    "\n",
    "sns.distplot(traffic.SalePrice, ax=ax, color='orange', label='Traffic Noise')\n",
    "sns.distplot(no_traffic.SalePrice, ax=ax, color='blue', label='No Traffic Noise')\n",
    "ax.legend()\n",
    "ax.set_title('Comparison of Distributions');"
   ]
  },
  {
   "cell_type": "markdown",
   "metadata": {},
   "source": [
    "# c. Test\n",
    "\n",
    "Of the three subsets we looked at, only extreme traffic noise seems to have any sizeable effect on the mean price of family homes. We'll use a t-test to determine the statistical significance of this finding.\n",
    "\n",
    "N<sub>0</sub>: The 2019 mean sale price of King County homes that do not suffer from extreme traffic noise is the same or lower than the 2019 mean sale price of King County homes that do suffer from extreme traffic noise\n",
    "\n",
    "N<sub>A</sub>: The 2019 mean sale price of King County homes that do suffer from extreme traffic noise is the higher than the 2019 mean sale price of King County homes that do not suffer from extreme traffic noise"
   ]
  },
  {
   "cell_type": "code",
   "execution_count": 28,
   "metadata": {},
   "outputs": [
    {
     "data": {
      "text/plain": [
       "Ttest_indResult(statistic=0.963580785007996, pvalue=0.3361809462932931)"
      ]
     },
     "execution_count": 28,
     "metadata": {},
     "output_type": "execute_result"
    }
   ],
   "source": [
    "stats.ttest_ind(no_traffic.SalePrice, traffic.SalePrice, equal_var=False)"
   ]
  },
  {
   "cell_type": "markdown",
   "metadata": {},
   "source": [
    "### P-value = 0.336\n",
    "The size of the difference in means was much more noticeable than the increases seen in previous subsets. However, this could be due to this last subset being only a fraction of a percent of the original sample. The findings were found to not be statistically significant given an alpha value of .05."
   ]
  },
  {
   "cell_type": "markdown",
   "metadata": {},
   "source": [
    "# Further investigation:\n",
    "If one looks at the distribution comparisons they will find that the yellow distribution, which represents homes that suffer from traffic noise, all seem to show a spike in low valued homes. We should look into the homes that constitute this spike and investigate what causes this group to stand out so much from the rest of the homes suffering from traffic noise."
   ]
  },
  {
   "cell_type": "markdown",
   "metadata": {},
   "source": [
    "# Power lines\n",
    "\n",
    "Do we have any homes in our data set that suffer from power line nuisances?"
   ]
  },
  {
   "cell_type": "code",
   "execution_count": 29,
   "metadata": {},
   "outputs": [
    {
     "data": {
      "text/plain": [
       "N    28171\n",
       "Y      299\n",
       "Name: PowerLines, dtype: int64"
      ]
     },
     "execution_count": 29,
     "metadata": {},
     "output_type": "execute_result"
    }
   ],
   "source": [
    "data.PowerLines.value_counts()"
   ]
  },
  {
   "cell_type": "markdown",
   "metadata": {},
   "source": [
    "# Power Lines\n",
    "\n",
    "# a. Subset"
   ]
  },
  {
   "cell_type": "code",
   "execution_count": 30,
   "metadata": {},
   "outputs": [
    {
     "name": "stdout",
     "output_type": "stream",
     "text": [
      "1.05% of our data represents homes that suffer from power line nuisances.\n"
     ]
    }
   ],
   "source": [
    "power_lines = data[data.PowerLines=='Y']\n",
    "no_power_lines = data[data.PowerLines=='N']\n",
    "\n",
    "total_count = len(data)\n",
    "power_lines_count = len(power_lines)\n",
    "\n",
    "print(f'{round((power_lines_count/total_count)*100, 2)}% of our data represents homes that suffer from power line nuisances.')"
   ]
  },
  {
   "cell_type": "markdown",
   "metadata": {},
   "source": [
    "# b. Compare\n",
    "### Median Comparison"
   ]
  },
  {
   "cell_type": "code",
   "execution_count": 31,
   "metadata": {},
   "outputs": [
    {
     "name": "stdout",
     "output_type": "stream",
     "text": [
      "Median value of homes w/ power lines: 600000.0\n",
      "\n",
      "Median value of homes w/o power lines: 655000.0\n",
      "\n",
      "Homes that suffer don't from power line nuisances have a median value of about $55000.0 higher than homes that suffer from power line nuisances.\n"
     ]
    }
   ],
   "source": [
    "power_lines_med = power_lines.SalePrice.median()\n",
    "no_power_lines_med = no_power_lines.SalePrice.median()\n",
    "med_dif = round(abs(power_lines_med-no_power_lines_med), 2)\n",
    "\n",
    "print(f'Median value of homes w/ power lines: {power_lines_med}\\n')\n",
    "print(f'Median value of homes w/o power lines: {no_power_lines_med}\\n')\n",
    "\n",
    "print(f'Homes that suffer don\\'t from power line nuisances have a median value of about ${med_dif} higher than homes that suffer from power line nuisances.')"
   ]
  },
  {
   "cell_type": "code",
   "execution_count": 32,
   "metadata": {},
   "outputs": [
    {
     "data": {
      "image/png": "[encoded data removed]",
      "text/plain": [
       "<Figure size 432x432 with 1 Axes>"
      ]
     },
     "metadata": {
      "needs_background": "light"
     },
     "output_type": "display_data"
    }
   ],
   "source": [
    "fig, ax = plt.subplots(1,1,figsize=(6,6))\n",
    "\n",
    "sns.barplot(x=['Homes w/o Power Lines', 'Homes w/ Power Lines'],y=[no_power_lines_med, power_lines_med], ax=ax);"
   ]
  },
  {
   "cell_type": "markdown",
   "metadata": {},
   "source": [
    "### Mean Comparison"
   ]
  },
  {
   "cell_type": "code",
   "execution_count": 47,
   "metadata": {},
   "outputs": [
    {
     "name": "stdout",
     "output_type": "stream",
     "text": [
      "Mean value of homes w/ power lines: 679553.9464882943\n",
      "\n",
      "Mean value of homes w/o power lines: 775947.2117425721\n",
      "\n",
      "Homes that suffer don't from power line nuisances have a mean value of about $96393.27 higher than homes that suffer from traffic noise.\n"
     ]
    }
   ],
   "source": [
    "power_lines_mean = power_lines.SalePrice.mean()\n",
    "no_power_lines_mean = no_power_lines.SalePrice.mean()\n",
    "mean_dif = round(abs(power_lines_mean-no_power_lines_mean), 2)\n",
    "\n",
    "print(f'Mean value of homes w/ power lines: {power_lines_mean}\\n')\n",
    "print(f'Mean value of homes w/o power lines: {no_power_lines_mean}\\n')\n",
    "\n",
    "print(f'Homes that suffer don\\'t from power line nuisances have a mean value of about ${mean_dif} higher than homes that suffer from traffic noise.')"
   ]
  },
  {
   "cell_type": "code",
   "execution_count": 34,
   "metadata": {},
   "outputs": [
    {
     "data": {
      "image/png": "[encoded data removed]",
      "text/plain": [
       "<Figure size 432x432 with 1 Axes>"
      ]
     },
     "metadata": {
      "needs_background": "light"
     },
     "output_type": "display_data"
    }
   ],
   "source": [
    "fig, ax = plt.subplots(1,1,figsize=(6,6))\n",
    "\n",
    "sns.barplot(x=['Homes w/o Power Lines', 'Homes w/ Power Lines'],y=[no_power_lines_mean, power_lines_mean], ax=ax);"
   ]
  },
  {
   "cell_type": "markdown",
   "metadata": {},
   "source": [
    "### Distribution comparison"
   ]
  },
  {
   "cell_type": "code",
   "execution_count": 35,
   "metadata": {},
   "outputs": [
    {
     "data": {
      "image/png": "[encoded data removed]",
      "text/plain": [
       "<Figure size 792x792 with 1 Axes>"
      ]
     },
     "metadata": {
      "needs_background": "light"
     },
     "output_type": "display_data"
    }
   ],
   "source": [
    "fig, ax = plt.subplots(1,1,figsize=(11,11))\n",
    "\n",
    "sns.distplot(traffic.SalePrice, ax=ax, color='orange', label='Power Lines')\n",
    "sns.distplot(no_traffic.SalePrice, ax=ax, color='blue', label='No Power Lines')\n",
    "ax.legend()\n",
    "ax.set_title('Comparison of Distributions');"
   ]
  },
  {
   "cell_type": "markdown",
   "metadata": {},
   "source": [
    "# c. Test\n",
    "\n",
    "The homes with power lines do show a significantly lower mean home sale value, so the statistical significance of this is worth investigating.\n",
    "\n",
    "N<sub>0</sub>: The 2019 mean sale price of King County homes that do not suffer from power line nuisances is the same or lower than the 2019 mean sale price of King County homes that do suffer from power line nuisances.\n",
    "\n",
    "N<sub>A</sub>: The 2019 mean sale price of King County homes that do suffer from power line nuisances is higher than the 2019 mean sale price of King County homes that do not suffer from power line nuisances."
   ]
  },
  {
   "cell_type": "code",
   "execution_count": 36,
   "metadata": {},
   "outputs": [
    {
     "data": {
      "text/plain": [
       "Ttest_indResult(statistic=4.2549740462196795, pvalue=2.7770027790713588e-05)"
      ]
     },
     "execution_count": 36,
     "metadata": {},
     "output_type": "execute_result"
    }
   ],
   "source": [
    "stats.ttest_ind(no_power_lines.SalePrice, power_lines.SalePrice, equal_var=False)"
   ]
  },
  {
   "cell_type": "markdown",
   "metadata": {},
   "source": [
    "### P-value = 0.0000028\n",
    "The difference in means between homes with and without power lines is close to $100,000 in favor of homes without power lines. We will reject the null hypothesis that power lines have no effect given that the p-value for this sample comparison is far smaller than the alpha value of .05."
   ]
  },
  {
   "cell_type": "code",
   "execution_count": 37,
   "metadata": {},
   "outputs": [
    {
     "data": {
      "text/html": [
       "<div>\n",
       "<style scoped>\n",
       "    .dataframe tbody tr th:only-of-type {\n",
       "        vertical-align: middle;\n",
       "    }\n",
       "\n",
       "    .dataframe tbody tr th {\n",
       "        vertical-align: top;\n",
       "    }\n",
       "\n",
       "    .dataframe thead th {\n",
       "        text-align: right;\n",
       "    }\n",
       "</style>\n",
       "<table border=\"1\" class=\"dataframe\">\n",
       "  <thead>\n",
       "    <tr style=\"text-align: right;\">\n",
       "      <th></th>\n",
       "      <th>Unnamed: 0_x</th>\n",
       "      <th>ExciseTaxNbr</th>\n",
       "      <th>Major_x</th>\n",
       "      <th>Minor_x</th>\n",
       "      <th>DocumentDate</th>\n",
       "      <th>SalePrice</th>\n",
       "      <th>RecordingNbr</th>\n",
       "      <th>Volume</th>\n",
       "      <th>Page</th>\n",
       "      <th>PlatNbr</th>\n",
       "      <th>...</th>\n",
       "      <th>SeismicHazard</th>\n",
       "      <th>LandslideHazard</th>\n",
       "      <th>SteepSlopeHazard</th>\n",
       "      <th>Stream</th>\n",
       "      <th>Wetland</th>\n",
       "      <th>SpeciesOfConcern</th>\n",
       "      <th>SensitiveAreaTract</th>\n",
       "      <th>WaterProblems</th>\n",
       "      <th>TranspConcurrency</th>\n",
       "      <th>OtherProblems</th>\n",
       "    </tr>\n",
       "  </thead>\n",
       "  <tbody>\n",
       "    <tr>\n",
       "      <th>36</th>\n",
       "      <td>36</td>\n",
       "      <td>2992999</td>\n",
       "      <td>407320</td>\n",
       "      <td>60</td>\n",
       "      <td>2019-06-05</td>\n",
       "      <td>1495000</td>\n",
       "      <td>20190611001065</td>\n",
       "      <td></td>\n",
       "      <td></td>\n",
       "      <td></td>\n",
       "      <td>...</td>\n",
       "      <td>N</td>\n",
       "      <td>N</td>\n",
       "      <td>N</td>\n",
       "      <td>N</td>\n",
       "      <td>N</td>\n",
       "      <td>N</td>\n",
       "      <td>N</td>\n",
       "      <td>N</td>\n",
       "      <td>N</td>\n",
       "      <td>N</td>\n",
       "    </tr>\n",
       "    <tr>\n",
       "      <th>62</th>\n",
       "      <td>62</td>\n",
       "      <td>2980797</td>\n",
       "      <td>637950</td>\n",
       "      <td>820</td>\n",
       "      <td>2019-03-20</td>\n",
       "      <td>675000</td>\n",
       "      <td>20190404000793</td>\n",
       "      <td></td>\n",
       "      <td></td>\n",
       "      <td></td>\n",
       "      <td>...</td>\n",
       "      <td>N</td>\n",
       "      <td>N</td>\n",
       "      <td>N</td>\n",
       "      <td>N</td>\n",
       "      <td>N</td>\n",
       "      <td>N</td>\n",
       "      <td>N</td>\n",
       "      <td>N</td>\n",
       "      <td>N</td>\n",
       "      <td>N</td>\n",
       "    </tr>\n",
       "    <tr>\n",
       "      <th>90</th>\n",
       "      <td>90</td>\n",
       "      <td>2981429</td>\n",
       "      <td>872595</td>\n",
       "      <td>140</td>\n",
       "      <td>2019-04-04</td>\n",
       "      <td>1267555</td>\n",
       "      <td>20190409000897</td>\n",
       "      <td></td>\n",
       "      <td></td>\n",
       "      <td></td>\n",
       "      <td>...</td>\n",
       "      <td>N</td>\n",
       "      <td>N</td>\n",
       "      <td>N</td>\n",
       "      <td>N</td>\n",
       "      <td>N</td>\n",
       "      <td>N</td>\n",
       "      <td>N</td>\n",
       "      <td>N</td>\n",
       "      <td>N</td>\n",
       "      <td>N</td>\n",
       "    </tr>\n",
       "    <tr>\n",
       "      <th>104</th>\n",
       "      <td>104</td>\n",
       "      <td>2983779</td>\n",
       "      <td>691805</td>\n",
       "      <td>70</td>\n",
       "      <td>2019-04-16</td>\n",
       "      <td>886846</td>\n",
       "      <td></td>\n",
       "      <td></td>\n",
       "      <td></td>\n",
       "      <td></td>\n",
       "      <td>...</td>\n",
       "      <td>N</td>\n",
       "      <td>N</td>\n",
       "      <td>N</td>\n",
       "      <td>N</td>\n",
       "      <td>N</td>\n",
       "      <td>N</td>\n",
       "      <td>N</td>\n",
       "      <td>N</td>\n",
       "      <td>N</td>\n",
       "      <td>N</td>\n",
       "    </tr>\n",
       "    <tr>\n",
       "      <th>135</th>\n",
       "      <td>135</td>\n",
       "      <td>2994581</td>\n",
       "      <td>390050</td>\n",
       "      <td>120</td>\n",
       "      <td>2019-06-18</td>\n",
       "      <td>737500</td>\n",
       "      <td></td>\n",
       "      <td></td>\n",
       "      <td></td>\n",
       "      <td></td>\n",
       "      <td>...</td>\n",
       "      <td>N</td>\n",
       "      <td>N</td>\n",
       "      <td>N</td>\n",
       "      <td>N</td>\n",
       "      <td>N</td>\n",
       "      <td>N</td>\n",
       "      <td>N</td>\n",
       "      <td>N</td>\n",
       "      <td>N</td>\n",
       "      <td>N</td>\n",
       "    </tr>\n",
       "    <tr>\n",
       "      <th>...</th>\n",
       "      <td>...</td>\n",
       "      <td>...</td>\n",
       "      <td>...</td>\n",
       "      <td>...</td>\n",
       "      <td>...</td>\n",
       "      <td>...</td>\n",
       "      <td>...</td>\n",
       "      <td>...</td>\n",
       "      <td>...</td>\n",
       "      <td>...</td>\n",
       "      <td>...</td>\n",
       "      <td>...</td>\n",
       "      <td>...</td>\n",
       "      <td>...</td>\n",
       "      <td>...</td>\n",
       "      <td>...</td>\n",
       "      <td>...</td>\n",
       "      <td>...</td>\n",
       "      <td>...</td>\n",
       "      <td>...</td>\n",
       "      <td>...</td>\n",
       "    </tr>\n",
       "    <tr>\n",
       "      <th>28568</th>\n",
       "      <td>28568</td>\n",
       "      <td>2982598</td>\n",
       "      <td>172304</td>\n",
       "      <td>9437</td>\n",
       "      <td>2019-03-07</td>\n",
       "      <td>550000</td>\n",
       "      <td></td>\n",
       "      <td></td>\n",
       "      <td></td>\n",
       "      <td></td>\n",
       "      <td>...</td>\n",
       "      <td>N</td>\n",
       "      <td>N</td>\n",
       "      <td>N</td>\n",
       "      <td>N</td>\n",
       "      <td>N</td>\n",
       "      <td>N</td>\n",
       "      <td>N</td>\n",
       "      <td>N</td>\n",
       "      <td>N</td>\n",
       "      <td>N</td>\n",
       "    </tr>\n",
       "    <tr>\n",
       "      <th>28572</th>\n",
       "      <td>28572</td>\n",
       "      <td>2985675</td>\n",
       "      <td>885692</td>\n",
       "      <td>380</td>\n",
       "      <td>2019-05-01</td>\n",
       "      <td>525000</td>\n",
       "      <td></td>\n",
       "      <td></td>\n",
       "      <td></td>\n",
       "      <td></td>\n",
       "      <td>...</td>\n",
       "      <td>N</td>\n",
       "      <td>N</td>\n",
       "      <td>N</td>\n",
       "      <td>N</td>\n",
       "      <td>N</td>\n",
       "      <td>N</td>\n",
       "      <td>N</td>\n",
       "      <td>N</td>\n",
       "      <td>N</td>\n",
       "      <td>N</td>\n",
       "    </tr>\n",
       "    <tr>\n",
       "      <th>28577</th>\n",
       "      <td>28577</td>\n",
       "      <td>2970466</td>\n",
       "      <td>618770</td>\n",
       "      <td>175</td>\n",
       "      <td>2019-01-14</td>\n",
       "      <td>610000</td>\n",
       "      <td>20190117000289</td>\n",
       "      <td></td>\n",
       "      <td></td>\n",
       "      <td></td>\n",
       "      <td>...</td>\n",
       "      <td>N</td>\n",
       "      <td>N</td>\n",
       "      <td>N</td>\n",
       "      <td>N</td>\n",
       "      <td>N</td>\n",
       "      <td>N</td>\n",
       "      <td>N</td>\n",
       "      <td>N</td>\n",
       "      <td>N</td>\n",
       "      <td>N</td>\n",
       "    </tr>\n",
       "    <tr>\n",
       "      <th>28608</th>\n",
       "      <td>28608</td>\n",
       "      <td>3004977</td>\n",
       "      <td>572750</td>\n",
       "      <td>100</td>\n",
       "      <td>2019-05-08</td>\n",
       "      <td>3900</td>\n",
       "      <td>20190815000438</td>\n",
       "      <td></td>\n",
       "      <td></td>\n",
       "      <td></td>\n",
       "      <td>...</td>\n",
       "      <td>N</td>\n",
       "      <td>N</td>\n",
       "      <td>N</td>\n",
       "      <td>N</td>\n",
       "      <td>N</td>\n",
       "      <td>N</td>\n",
       "      <td>N</td>\n",
       "      <td>N</td>\n",
       "      <td>N</td>\n",
       "      <td>N</td>\n",
       "    </tr>\n",
       "    <tr>\n",
       "      <th>28609</th>\n",
       "      <td>28609</td>\n",
       "      <td>2993049</td>\n",
       "      <td>436520</td>\n",
       "      <td>5</td>\n",
       "      <td>2019-06-10</td>\n",
       "      <td>395000</td>\n",
       "      <td>20190611001327</td>\n",
       "      <td></td>\n",
       "      <td></td>\n",
       "      <td></td>\n",
       "      <td>...</td>\n",
       "      <td>N</td>\n",
       "      <td>N</td>\n",
       "      <td>N</td>\n",
       "      <td>N</td>\n",
       "      <td>N</td>\n",
       "      <td>N</td>\n",
       "      <td>N</td>\n",
       "      <td>N</td>\n",
       "      <td>N</td>\n",
       "      <td>N</td>\n",
       "    </tr>\n",
       "  </tbody>\n",
       "</table>\n",
       "<p>1933 rows × 108 columns</p>\n",
       "</div>"
      ],
      "text/plain": [
       "       Unnamed: 0_x  ExciseTaxNbr  Major_x  Minor_x DocumentDate  SalePrice  \\\n",
       "36               36       2992999   407320       60   2019-06-05    1495000   \n",
       "62               62       2980797   637950      820   2019-03-20     675000   \n",
       "90               90       2981429   872595      140   2019-04-04    1267555   \n",
       "104             104       2983779   691805       70   2019-04-16     886846   \n",
       "135             135       2994581   390050      120   2019-06-18     737500   \n",
       "...             ...           ...      ...      ...          ...        ...   \n",
       "28568         28568       2982598   172304     9437   2019-03-07     550000   \n",
       "28572         28572       2985675   885692      380   2019-05-01     525000   \n",
       "28577         28577       2970466   618770      175   2019-01-14     610000   \n",
       "28608         28608       3004977   572750      100   2019-05-08       3900   \n",
       "28609         28609       2993049   436520        5   2019-06-10     395000   \n",
       "\n",
       "         RecordingNbr Volume Page PlatNbr  ... SeismicHazard LandslideHazard  \\\n",
       "36     20190611001065                      ...             N               N   \n",
       "62     20190404000793                      ...             N               N   \n",
       "90     20190409000897                      ...             N               N   \n",
       "104                                        ...             N               N   \n",
       "135                                        ...             N               N   \n",
       "...               ...    ...  ...     ...  ...           ...             ...   \n",
       "28568                                      ...             N               N   \n",
       "28572                                      ...             N               N   \n",
       "28577  20190117000289                      ...             N               N   \n",
       "28608  20190815000438                      ...             N               N   \n",
       "28609  20190611001327                      ...             N               N   \n",
       "\n",
       "      SteepSlopeHazard Stream Wetland  SpeciesOfConcern  SensitiveAreaTract  \\\n",
       "36                   N      N       N                 N                   N   \n",
       "62                   N      N       N                 N                   N   \n",
       "90                   N      N       N                 N                   N   \n",
       "104                  N      N       N                 N                   N   \n",
       "135                  N      N       N                 N                   N   \n",
       "...                ...    ...     ...               ...                 ...   \n",
       "28568                N      N       N                 N                   N   \n",
       "28572                N      N       N                 N                   N   \n",
       "28577                N      N       N                 N                   N   \n",
       "28608                N      N       N                 N                   N   \n",
       "28609                N      N       N                 N                   N   \n",
       "\n",
       "       WaterProblems TranspConcurrency OtherProblems  \n",
       "36                 N                 N             N  \n",
       "62                 N                 N             N  \n",
       "90                 N                 N             N  \n",
       "104                N                 N             N  \n",
       "135                N                 N             N  \n",
       "...              ...               ...           ...  \n",
       "28568              N                 N             N  \n",
       "28572              N                 N             N  \n",
       "28577              N                 N             N  \n",
       "28608              N                 N             N  \n",
       "28609              N                 N             N  \n",
       "\n",
       "[1933 rows x 108 columns]"
      ]
     },
     "execution_count": 37,
     "metadata": {},
     "output_type": "execute_result"
    }
   ],
   "source": [
    "nuisance = no_outliers[(no_outliers.TrafficNoise>=2)|(no_outliers.PowerLines == 'Y')]\n",
    "\n",
    "nuisance"
   ]
  },
  {
   "cell_type": "code",
   "execution_count": 38,
   "metadata": {},
   "outputs": [
    {
     "data": {
      "text/html": [
       "<div>\n",
       "<style scoped>\n",
       "    .dataframe tbody tr th:only-of-type {\n",
       "        vertical-align: middle;\n",
       "    }\n",
       "\n",
       "    .dataframe tbody tr th {\n",
       "        vertical-align: top;\n",
       "    }\n",
       "\n",
       "    .dataframe thead th {\n",
       "        text-align: right;\n",
       "    }\n",
       "</style>\n",
       "<table border=\"1\" class=\"dataframe\">\n",
       "  <thead>\n",
       "    <tr style=\"text-align: right;\">\n",
       "      <th></th>\n",
       "      <th>Unnamed: 0_x</th>\n",
       "      <th>ExciseTaxNbr</th>\n",
       "      <th>Major_x</th>\n",
       "      <th>Minor_x</th>\n",
       "      <th>DocumentDate</th>\n",
       "      <th>SalePrice</th>\n",
       "      <th>RecordingNbr</th>\n",
       "      <th>Volume</th>\n",
       "      <th>Page</th>\n",
       "      <th>PlatNbr</th>\n",
       "      <th>...</th>\n",
       "      <th>SeismicHazard</th>\n",
       "      <th>LandslideHazard</th>\n",
       "      <th>SteepSlopeHazard</th>\n",
       "      <th>Stream</th>\n",
       "      <th>Wetland</th>\n",
       "      <th>SpeciesOfConcern</th>\n",
       "      <th>SensitiveAreaTract</th>\n",
       "      <th>WaterProblems</th>\n",
       "      <th>TranspConcurrency</th>\n",
       "      <th>OtherProblems</th>\n",
       "    </tr>\n",
       "  </thead>\n",
       "  <tbody>\n",
       "    <tr>\n",
       "      <th>0</th>\n",
       "      <td>0</td>\n",
       "      <td>3027422</td>\n",
       "      <td>213043</td>\n",
       "      <td>120</td>\n",
       "      <td>2019-12-20</td>\n",
       "      <td>560000</td>\n",
       "      <td>20191226000848</td>\n",
       "      <td></td>\n",
       "      <td></td>\n",
       "      <td></td>\n",
       "      <td>...</td>\n",
       "      <td>N</td>\n",
       "      <td>N</td>\n",
       "      <td>N</td>\n",
       "      <td>N</td>\n",
       "      <td>N</td>\n",
       "      <td>N</td>\n",
       "      <td>N</td>\n",
       "      <td>N</td>\n",
       "      <td>N</td>\n",
       "      <td>N</td>\n",
       "    </tr>\n",
       "    <tr>\n",
       "      <th>1</th>\n",
       "      <td>1</td>\n",
       "      <td>3002257</td>\n",
       "      <td>940652</td>\n",
       "      <td>630</td>\n",
       "      <td>2019-07-22</td>\n",
       "      <td>435000</td>\n",
       "      <td>20190730001339</td>\n",
       "      <td></td>\n",
       "      <td></td>\n",
       "      <td></td>\n",
       "      <td>...</td>\n",
       "      <td>N</td>\n",
       "      <td>N</td>\n",
       "      <td>N</td>\n",
       "      <td>N</td>\n",
       "      <td>N</td>\n",
       "      <td>N</td>\n",
       "      <td>N</td>\n",
       "      <td>N</td>\n",
       "      <td>N</td>\n",
       "      <td>N</td>\n",
       "    </tr>\n",
       "    <tr>\n",
       "      <th>2</th>\n",
       "      <td>2</td>\n",
       "      <td>2993601</td>\n",
       "      <td>140281</td>\n",
       "      <td>20</td>\n",
       "      <td>2019-06-04</td>\n",
       "      <td>450000</td>\n",
       "      <td>20190614000489</td>\n",
       "      <td></td>\n",
       "      <td></td>\n",
       "      <td></td>\n",
       "      <td>...</td>\n",
       "      <td>N</td>\n",
       "      <td>N</td>\n",
       "      <td>N</td>\n",
       "      <td>N</td>\n",
       "      <td>N</td>\n",
       "      <td>N</td>\n",
       "      <td>N</td>\n",
       "      <td>N</td>\n",
       "      <td>N</td>\n",
       "      <td>N</td>\n",
       "    </tr>\n",
       "    <tr>\n",
       "      <th>3</th>\n",
       "      <td>3</td>\n",
       "      <td>3015264</td>\n",
       "      <td>124550</td>\n",
       "      <td>98</td>\n",
       "      <td>2019-09-27</td>\n",
       "      <td>193000</td>\n",
       "      <td>20191015000395</td>\n",
       "      <td></td>\n",
       "      <td></td>\n",
       "      <td></td>\n",
       "      <td>...</td>\n",
       "      <td>N</td>\n",
       "      <td>N</td>\n",
       "      <td>N</td>\n",
       "      <td>N</td>\n",
       "      <td>N</td>\n",
       "      <td>N</td>\n",
       "      <td>N</td>\n",
       "      <td>N</td>\n",
       "      <td>N</td>\n",
       "      <td>N</td>\n",
       "    </tr>\n",
       "    <tr>\n",
       "      <th>4</th>\n",
       "      <td>4</td>\n",
       "      <td>2980648</td>\n",
       "      <td>797320</td>\n",
       "      <td>2320</td>\n",
       "      <td>2019-03-27</td>\n",
       "      <td>540000</td>\n",
       "      <td></td>\n",
       "      <td></td>\n",
       "      <td></td>\n",
       "      <td></td>\n",
       "      <td>...</td>\n",
       "      <td>N</td>\n",
       "      <td>N</td>\n",
       "      <td>N</td>\n",
       "      <td>N</td>\n",
       "      <td>N</td>\n",
       "      <td>N</td>\n",
       "      <td>N</td>\n",
       "      <td>N</td>\n",
       "      <td>N</td>\n",
       "      <td>N</td>\n",
       "    </tr>\n",
       "    <tr>\n",
       "      <th>...</th>\n",
       "      <td>...</td>\n",
       "      <td>...</td>\n",
       "      <td>...</td>\n",
       "      <td>...</td>\n",
       "      <td>...</td>\n",
       "      <td>...</td>\n",
       "      <td>...</td>\n",
       "      <td>...</td>\n",
       "      <td>...</td>\n",
       "      <td>...</td>\n",
       "      <td>...</td>\n",
       "      <td>...</td>\n",
       "      <td>...</td>\n",
       "      <td>...</td>\n",
       "      <td>...</td>\n",
       "      <td>...</td>\n",
       "      <td>...</td>\n",
       "      <td>...</td>\n",
       "      <td>...</td>\n",
       "      <td>...</td>\n",
       "      <td>...</td>\n",
       "    </tr>\n",
       "    <tr>\n",
       "      <th>28614</th>\n",
       "      <td>28614</td>\n",
       "      <td>2972689</td>\n",
       "      <td>929085</td>\n",
       "      <td>760</td>\n",
       "      <td>2019-01-25</td>\n",
       "      <td>1205000</td>\n",
       "      <td>20190206001611</td>\n",
       "      <td></td>\n",
       "      <td></td>\n",
       "      <td></td>\n",
       "      <td>...</td>\n",
       "      <td>N</td>\n",
       "      <td>N</td>\n",
       "      <td>N</td>\n",
       "      <td>N</td>\n",
       "      <td>N</td>\n",
       "      <td>N</td>\n",
       "      <td>N</td>\n",
       "      <td>N</td>\n",
       "      <td>N</td>\n",
       "      <td>N</td>\n",
       "    </tr>\n",
       "    <tr>\n",
       "      <th>28615</th>\n",
       "      <td>28615</td>\n",
       "      <td>2992593</td>\n",
       "      <td>405940</td>\n",
       "      <td>95</td>\n",
       "      <td>2019-05-21</td>\n",
       "      <td>442000</td>\n",
       "      <td>20190607001670</td>\n",
       "      <td></td>\n",
       "      <td></td>\n",
       "      <td></td>\n",
       "      <td>...</td>\n",
       "      <td>N</td>\n",
       "      <td>N</td>\n",
       "      <td>N</td>\n",
       "      <td>N</td>\n",
       "      <td>N</td>\n",
       "      <td>N</td>\n",
       "      <td>N</td>\n",
       "      <td>N</td>\n",
       "      <td>N</td>\n",
       "      <td>N</td>\n",
       "    </tr>\n",
       "    <tr>\n",
       "      <th>28616</th>\n",
       "      <td>28616</td>\n",
       "      <td>3003079</td>\n",
       "      <td>381670</td>\n",
       "      <td>25</td>\n",
       "      <td>2019-07-22</td>\n",
       "      <td>680000</td>\n",
       "      <td>20190802000628</td>\n",
       "      <td></td>\n",
       "      <td></td>\n",
       "      <td></td>\n",
       "      <td>...</td>\n",
       "      <td>N</td>\n",
       "      <td>N</td>\n",
       "      <td>N</td>\n",
       "      <td>N</td>\n",
       "      <td>N</td>\n",
       "      <td>N</td>\n",
       "      <td>N</td>\n",
       "      <td>N</td>\n",
       "      <td>N</td>\n",
       "      <td>N</td>\n",
       "    </tr>\n",
       "    <tr>\n",
       "      <th>28617</th>\n",
       "      <td>28617</td>\n",
       "      <td>3025068</td>\n",
       "      <td>615020</td>\n",
       "      <td>505</td>\n",
       "      <td>2019-11-18</td>\n",
       "      <td>745000</td>\n",
       "      <td>20191212000602</td>\n",
       "      <td></td>\n",
       "      <td></td>\n",
       "      <td></td>\n",
       "      <td>...</td>\n",
       "      <td>N</td>\n",
       "      <td>N</td>\n",
       "      <td>N</td>\n",
       "      <td>N</td>\n",
       "      <td>N</td>\n",
       "      <td>N</td>\n",
       "      <td>N</td>\n",
       "      <td>N</td>\n",
       "      <td>N</td>\n",
       "      <td>N</td>\n",
       "    </tr>\n",
       "    <tr>\n",
       "      <th>28618</th>\n",
       "      <td>28618</td>\n",
       "      <td>3028691</td>\n",
       "      <td>277110</td>\n",
       "      <td>4239</td>\n",
       "      <td>2019-12-19</td>\n",
       "      <td>955000</td>\n",
       "      <td>20200103000685</td>\n",
       "      <td></td>\n",
       "      <td></td>\n",
       "      <td></td>\n",
       "      <td>...</td>\n",
       "      <td>N</td>\n",
       "      <td>N</td>\n",
       "      <td>N</td>\n",
       "      <td>N</td>\n",
       "      <td>N</td>\n",
       "      <td>N</td>\n",
       "      <td>N</td>\n",
       "      <td>N</td>\n",
       "      <td>N</td>\n",
       "      <td>N</td>\n",
       "    </tr>\n",
       "  </tbody>\n",
       "</table>\n",
       "<p>26537 rows × 108 columns</p>\n",
       "</div>"
      ],
      "text/plain": [
       "       Unnamed: 0_x  ExciseTaxNbr  Major_x  Minor_x DocumentDate  SalePrice  \\\n",
       "0                 0       3027422   213043      120   2019-12-20     560000   \n",
       "1                 1       3002257   940652      630   2019-07-22     435000   \n",
       "2                 2       2993601   140281       20   2019-06-04     450000   \n",
       "3                 3       3015264   124550       98   2019-09-27     193000   \n",
       "4                 4       2980648   797320     2320   2019-03-27     540000   \n",
       "...             ...           ...      ...      ...          ...        ...   \n",
       "28614         28614       2972689   929085      760   2019-01-25    1205000   \n",
       "28615         28615       2992593   405940       95   2019-05-21     442000   \n",
       "28616         28616       3003079   381670       25   2019-07-22     680000   \n",
       "28617         28617       3025068   615020      505   2019-11-18     745000   \n",
       "28618         28618       3028691   277110     4239   2019-12-19     955000   \n",
       "\n",
       "         RecordingNbr Volume Page PlatNbr  ... SeismicHazard LandslideHazard  \\\n",
       "0      20191226000848                      ...             N               N   \n",
       "1      20190730001339                      ...             N               N   \n",
       "2      20190614000489                      ...             N               N   \n",
       "3      20191015000395                      ...             N               N   \n",
       "4                                          ...             N               N   \n",
       "...               ...    ...  ...     ...  ...           ...             ...   \n",
       "28614  20190206001611                      ...             N               N   \n",
       "28615  20190607001670                      ...             N               N   \n",
       "28616  20190802000628                      ...             N               N   \n",
       "28617  20191212000602                      ...             N               N   \n",
       "28618  20200103000685                      ...             N               N   \n",
       "\n",
       "      SteepSlopeHazard Stream Wetland  SpeciesOfConcern  SensitiveAreaTract  \\\n",
       "0                    N      N       N                 N                   N   \n",
       "1                    N      N       N                 N                   N   \n",
       "2                    N      N       N                 N                   N   \n",
       "3                    N      N       N                 N                   N   \n",
       "4                    N      N       N                 N                   N   \n",
       "...                ...    ...     ...               ...                 ...   \n",
       "28614                N      N       N                 N                   N   \n",
       "28615                N      N       N                 N                   N   \n",
       "28616                N      N       N                 N                   N   \n",
       "28617                N      N       N                 N                   N   \n",
       "28618                N      N       N                 N                   N   \n",
       "\n",
       "       WaterProblems TranspConcurrency OtherProblems  \n",
       "0                  N                 N             N  \n",
       "1                  N                 N             N  \n",
       "2                  N                 N             N  \n",
       "3                  N                 N             N  \n",
       "4                  N                 N             N  \n",
       "...              ...               ...           ...  \n",
       "28614              N                 N             N  \n",
       "28615              N                 N             N  \n",
       "28616              N                 N             N  \n",
       "28617              N                 N             N  \n",
       "28618              N                 N             N  \n",
       "\n",
       "[26537 rows x 108 columns]"
      ]
     },
     "execution_count": 38,
     "metadata": {},
     "output_type": "execute_result"
    }
   ],
   "source": [
    "no_nuisance = no_outliers[(no_outliers.TrafficNoise<2)&(no_outliers.PowerLines == 'N')]\n",
    "\n",
    "no_nuisance"
   ]
  },
  {
   "cell_type": "markdown",
   "metadata": {},
   "source": [
    "# All Nuisances\n",
    "\n",
    "Because we found a small effect for homes with extreme traffic noise, and a large and statistically significant effect for power line nuisances, we want to see the difference between homes with either of these nuisances and homes with no nuisances."
   ]
  },
  {
   "cell_type": "markdown",
   "metadata": {},
   "source": [
    "# a. Subset"
   ]
  },
  {
   "cell_type": "code",
   "execution_count": 39,
   "metadata": {},
   "outputs": [
    {
     "name": "stdout",
     "output_type": "stream",
     "text": [
      "1.92% of our data represents homes that suffer from significant nuisances.\n"
     ]
    }
   ],
   "source": [
    "nuisance = data[(data.TrafficNoise>=3)|(data.PowerLines == 'Y')]\n",
    "no_nuisance = data[(data.TrafficNoise<2)&(data.PowerLines == 'N')]\n",
    "\n",
    "total_count = len(data)\n",
    "nuisance_count = len(nuisance)\n",
    "\n",
    "print(f'{round((nuisance_count/total_count)*100, 2)}% of our data represents homes that suffer from significant nuisances.')"
   ]
  },
  {
   "cell_type": "markdown",
   "metadata": {},
   "source": [
    "# b. Compare\n",
    "### Median Comparison"
   ]
  },
  {
   "cell_type": "code",
   "execution_count": 40,
   "metadata": {},
   "outputs": [
    {
     "name": "stdout",
     "output_type": "stream",
     "text": [
      "Median value of homes w/ nuisances: 618000.0\n",
      "\n",
      "Median value of homes w/o nuisances: 655888.0\n",
      "\n",
      "Homes that suffer don't from nuisances have a median value of about $37888.0 higher than homes that suffer from nuisances.\n"
     ]
    },
    {
     "data": {
      "text/html": [
       "<div>\n",
       "<style scoped>\n",
       "    .dataframe tbody tr th:only-of-type {\n",
       "        vertical-align: middle;\n",
       "    }\n",
       "\n",
       "    .dataframe tbody tr th {\n",
       "        vertical-align: top;\n",
       "    }\n",
       "\n",
       "    .dataframe thead th {\n",
       "        text-align: right;\n",
       "    }\n",
       "</style>\n",
       "<table border=\"1\" class=\"dataframe\">\n",
       "  <thead>\n",
       "    <tr style=\"text-align: right;\">\n",
       "      <th></th>\n",
       "      <th>Unnamed: 0_x</th>\n",
       "      <th>ExciseTaxNbr</th>\n",
       "      <th>Major_x</th>\n",
       "      <th>Minor_x</th>\n",
       "      <th>DocumentDate</th>\n",
       "      <th>SalePrice</th>\n",
       "      <th>RecordingNbr</th>\n",
       "      <th>Volume</th>\n",
       "      <th>Page</th>\n",
       "      <th>PlatNbr</th>\n",
       "      <th>...</th>\n",
       "      <th>SeismicHazard</th>\n",
       "      <th>LandslideHazard</th>\n",
       "      <th>SteepSlopeHazard</th>\n",
       "      <th>Stream</th>\n",
       "      <th>Wetland</th>\n",
       "      <th>SpeciesOfConcern</th>\n",
       "      <th>SensitiveAreaTract</th>\n",
       "      <th>WaterProblems</th>\n",
       "      <th>TranspConcurrency</th>\n",
       "      <th>OtherProblems</th>\n",
       "    </tr>\n",
       "  </thead>\n",
       "  <tbody>\n",
       "    <tr>\n",
       "      <th>135</th>\n",
       "      <td>135</td>\n",
       "      <td>2994581</td>\n",
       "      <td>390050</td>\n",
       "      <td>120</td>\n",
       "      <td>2019-06-18</td>\n",
       "      <td>737500</td>\n",
       "      <td></td>\n",
       "      <td></td>\n",
       "      <td></td>\n",
       "      <td></td>\n",
       "      <td>...</td>\n",
       "      <td>N</td>\n",
       "      <td>N</td>\n",
       "      <td>N</td>\n",
       "      <td>N</td>\n",
       "      <td>N</td>\n",
       "      <td>N</td>\n",
       "      <td>N</td>\n",
       "      <td>N</td>\n",
       "      <td>N</td>\n",
       "      <td>N</td>\n",
       "    </tr>\n",
       "    <tr>\n",
       "      <th>209</th>\n",
       "      <td>209</td>\n",
       "      <td>2972270</td>\n",
       "      <td>82006</td>\n",
       "      <td>9039</td>\n",
       "      <td>2019-01-10</td>\n",
       "      <td>699000</td>\n",
       "      <td>20190131001217</td>\n",
       "      <td></td>\n",
       "      <td></td>\n",
       "      <td></td>\n",
       "      <td>...</td>\n",
       "      <td>N</td>\n",
       "      <td>N</td>\n",
       "      <td>N</td>\n",
       "      <td>N</td>\n",
       "      <td>N</td>\n",
       "      <td>N</td>\n",
       "      <td>N</td>\n",
       "      <td>N</td>\n",
       "      <td>N</td>\n",
       "      <td>N</td>\n",
       "    </tr>\n",
       "    <tr>\n",
       "      <th>332</th>\n",
       "      <td>332</td>\n",
       "      <td>2999410</td>\n",
       "      <td>22507</td>\n",
       "      <td>9045</td>\n",
       "      <td>2019-07-13</td>\n",
       "      <td>1350000</td>\n",
       "      <td>20190715001086</td>\n",
       "      <td></td>\n",
       "      <td></td>\n",
       "      <td></td>\n",
       "      <td>...</td>\n",
       "      <td>N</td>\n",
       "      <td>N</td>\n",
       "      <td>N</td>\n",
       "      <td>N</td>\n",
       "      <td>N</td>\n",
       "      <td>N</td>\n",
       "      <td>N</td>\n",
       "      <td>N</td>\n",
       "      <td>N</td>\n",
       "      <td>N</td>\n",
       "    </tr>\n",
       "    <tr>\n",
       "      <th>385</th>\n",
       "      <td>385</td>\n",
       "      <td>2988205</td>\n",
       "      <td>184030</td>\n",
       "      <td>280</td>\n",
       "      <td>2019-05-14</td>\n",
       "      <td>428000</td>\n",
       "      <td>20190516000840</td>\n",
       "      <td></td>\n",
       "      <td></td>\n",
       "      <td></td>\n",
       "      <td>...</td>\n",
       "      <td>N</td>\n",
       "      <td>N</td>\n",
       "      <td>N</td>\n",
       "      <td>N</td>\n",
       "      <td>N</td>\n",
       "      <td>N</td>\n",
       "      <td>N</td>\n",
       "      <td>N</td>\n",
       "      <td>N</td>\n",
       "      <td>N</td>\n",
       "    </tr>\n",
       "    <tr>\n",
       "      <th>396</th>\n",
       "      <td>396</td>\n",
       "      <td>2972996</td>\n",
       "      <td>195181</td>\n",
       "      <td>120</td>\n",
       "      <td>2019-02-04</td>\n",
       "      <td>775000</td>\n",
       "      <td></td>\n",
       "      <td></td>\n",
       "      <td></td>\n",
       "      <td></td>\n",
       "      <td>...</td>\n",
       "      <td>N</td>\n",
       "      <td>N</td>\n",
       "      <td>N</td>\n",
       "      <td>N</td>\n",
       "      <td>N</td>\n",
       "      <td>N</td>\n",
       "      <td>N</td>\n",
       "      <td>N</td>\n",
       "      <td>N</td>\n",
       "      <td>N</td>\n",
       "    </tr>\n",
       "    <tr>\n",
       "      <th>...</th>\n",
       "      <td>...</td>\n",
       "      <td>...</td>\n",
       "      <td>...</td>\n",
       "      <td>...</td>\n",
       "      <td>...</td>\n",
       "      <td>...</td>\n",
       "      <td>...</td>\n",
       "      <td>...</td>\n",
       "      <td>...</td>\n",
       "      <td>...</td>\n",
       "      <td>...</td>\n",
       "      <td>...</td>\n",
       "      <td>...</td>\n",
       "      <td>...</td>\n",
       "      <td>...</td>\n",
       "      <td>...</td>\n",
       "      <td>...</td>\n",
       "      <td>...</td>\n",
       "      <td>...</td>\n",
       "      <td>...</td>\n",
       "      <td>...</td>\n",
       "    </tr>\n",
       "    <tr>\n",
       "      <th>28364</th>\n",
       "      <td>28364</td>\n",
       "      <td>2987793</td>\n",
       "      <td>774010</td>\n",
       "      <td>25</td>\n",
       "      <td>2019-05-13</td>\n",
       "      <td>759100</td>\n",
       "      <td>20190515000668</td>\n",
       "      <td></td>\n",
       "      <td></td>\n",
       "      <td></td>\n",
       "      <td>...</td>\n",
       "      <td>N</td>\n",
       "      <td>N</td>\n",
       "      <td>N</td>\n",
       "      <td>N</td>\n",
       "      <td>N</td>\n",
       "      <td>N</td>\n",
       "      <td>N</td>\n",
       "      <td>N</td>\n",
       "      <td>N</td>\n",
       "      <td>N</td>\n",
       "    </tr>\n",
       "    <tr>\n",
       "      <th>28459</th>\n",
       "      <td>28459</td>\n",
       "      <td>3021378</td>\n",
       "      <td>172505</td>\n",
       "      <td>9125</td>\n",
       "      <td>2019-11-15</td>\n",
       "      <td>1482000</td>\n",
       "      <td>20191119000865</td>\n",
       "      <td></td>\n",
       "      <td></td>\n",
       "      <td></td>\n",
       "      <td>...</td>\n",
       "      <td>N</td>\n",
       "      <td>N</td>\n",
       "      <td>N</td>\n",
       "      <td>N</td>\n",
       "      <td>N</td>\n",
       "      <td>N</td>\n",
       "      <td>N</td>\n",
       "      <td>N</td>\n",
       "      <td>N</td>\n",
       "      <td>N</td>\n",
       "    </tr>\n",
       "    <tr>\n",
       "      <th>28484</th>\n",
       "      <td>28484</td>\n",
       "      <td>3005640</td>\n",
       "      <td>430730</td>\n",
       "      <td>520</td>\n",
       "      <td>2019-08-14</td>\n",
       "      <td>188000</td>\n",
       "      <td>20190819000550</td>\n",
       "      <td></td>\n",
       "      <td></td>\n",
       "      <td></td>\n",
       "      <td>...</td>\n",
       "      <td>N</td>\n",
       "      <td>N</td>\n",
       "      <td>N</td>\n",
       "      <td>N</td>\n",
       "      <td>N</td>\n",
       "      <td>N</td>\n",
       "      <td>N</td>\n",
       "      <td>N</td>\n",
       "      <td>N</td>\n",
       "      <td>N</td>\n",
       "    </tr>\n",
       "    <tr>\n",
       "      <th>28577</th>\n",
       "      <td>28577</td>\n",
       "      <td>2970466</td>\n",
       "      <td>618770</td>\n",
       "      <td>175</td>\n",
       "      <td>2019-01-14</td>\n",
       "      <td>610000</td>\n",
       "      <td>20190117000289</td>\n",
       "      <td></td>\n",
       "      <td></td>\n",
       "      <td></td>\n",
       "      <td>...</td>\n",
       "      <td>N</td>\n",
       "      <td>N</td>\n",
       "      <td>N</td>\n",
       "      <td>N</td>\n",
       "      <td>N</td>\n",
       "      <td>N</td>\n",
       "      <td>N</td>\n",
       "      <td>N</td>\n",
       "      <td>N</td>\n",
       "      <td>N</td>\n",
       "    </tr>\n",
       "    <tr>\n",
       "      <th>28608</th>\n",
       "      <td>28608</td>\n",
       "      <td>3004977</td>\n",
       "      <td>572750</td>\n",
       "      <td>100</td>\n",
       "      <td>2019-05-08</td>\n",
       "      <td>3900</td>\n",
       "      <td>20190815000438</td>\n",
       "      <td></td>\n",
       "      <td></td>\n",
       "      <td></td>\n",
       "      <td>...</td>\n",
       "      <td>N</td>\n",
       "      <td>N</td>\n",
       "      <td>N</td>\n",
       "      <td>N</td>\n",
       "      <td>N</td>\n",
       "      <td>N</td>\n",
       "      <td>N</td>\n",
       "      <td>N</td>\n",
       "      <td>N</td>\n",
       "      <td>N</td>\n",
       "    </tr>\n",
       "  </tbody>\n",
       "</table>\n",
       "<p>548 rows × 108 columns</p>\n",
       "</div>"
      ],
      "text/plain": [
       "       Unnamed: 0_x  ExciseTaxNbr  Major_x  Minor_x DocumentDate  SalePrice  \\\n",
       "135             135       2994581   390050      120   2019-06-18     737500   \n",
       "209             209       2972270    82006     9039   2019-01-10     699000   \n",
       "332             332       2999410    22507     9045   2019-07-13    1350000   \n",
       "385             385       2988205   184030      280   2019-05-14     428000   \n",
       "396             396       2972996   195181      120   2019-02-04     775000   \n",
       "...             ...           ...      ...      ...          ...        ...   \n",
       "28364         28364       2987793   774010       25   2019-05-13     759100   \n",
       "28459         28459       3021378   172505     9125   2019-11-15    1482000   \n",
       "28484         28484       3005640   430730      520   2019-08-14     188000   \n",
       "28577         28577       2970466   618770      175   2019-01-14     610000   \n",
       "28608         28608       3004977   572750      100   2019-05-08       3900   \n",
       "\n",
       "         RecordingNbr Volume Page PlatNbr  ... SeismicHazard LandslideHazard  \\\n",
       "135                                        ...             N               N   \n",
       "209    20190131001217                      ...             N               N   \n",
       "332    20190715001086                      ...             N               N   \n",
       "385    20190516000840                      ...             N               N   \n",
       "396                                        ...             N               N   \n",
       "...               ...    ...  ...     ...  ...           ...             ...   \n",
       "28364  20190515000668                      ...             N               N   \n",
       "28459  20191119000865                      ...             N               N   \n",
       "28484  20190819000550                      ...             N               N   \n",
       "28577  20190117000289                      ...             N               N   \n",
       "28608  20190815000438                      ...             N               N   \n",
       "\n",
       "      SteepSlopeHazard Stream Wetland  SpeciesOfConcern  SensitiveAreaTract  \\\n",
       "135                  N      N       N                 N                   N   \n",
       "209                  N      N       N                 N                   N   \n",
       "332                  N      N       N                 N                   N   \n",
       "385                  N      N       N                 N                   N   \n",
       "396                  N      N       N                 N                   N   \n",
       "...                ...    ...     ...               ...                 ...   \n",
       "28364                N      N       N                 N                   N   \n",
       "28459                N      N       N                 N                   N   \n",
       "28484                N      N       N                 N                   N   \n",
       "28577                N      N       N                 N                   N   \n",
       "28608                N      N       N                 N                   N   \n",
       "\n",
       "       WaterProblems TranspConcurrency OtherProblems  \n",
       "135                N                 N             N  \n",
       "209                N                 N             N  \n",
       "332                N                 N             N  \n",
       "385                N                 N             N  \n",
       "396                N                 N             N  \n",
       "...              ...               ...           ...  \n",
       "28364              N                 N             N  \n",
       "28459              N                 N             N  \n",
       "28484              N                 N             N  \n",
       "28577              N                 N             N  \n",
       "28608              N                 N             N  \n",
       "\n",
       "[548 rows x 108 columns]"
      ]
     },
     "execution_count": 40,
     "metadata": {},
     "output_type": "execute_result"
    }
   ],
   "source": [
    "nuisance_med = nuisance.SalePrice.median()\n",
    "no_nuisance_med = no_nuisance.SalePrice.median()\n",
    "med_dif = round(abs(nuisance_med-no_nuisance_med), 2)\n",
    "\n",
    "print(f'Median value of homes w/ nuisances: {nuisance_med}\\n')\n",
    "print(f'Median value of homes w/o nuisances: {no_nuisance_med}\\n')\n",
    "\n",
    "print(f'Homes that suffer don\\'t from nuisances have a median value of about ${med_dif} higher than homes that suffer from nuisances.')\n",
    "nuisance"
   ]
  },
  {
   "cell_type": "code",
   "execution_count": 41,
   "metadata": {},
   "outputs": [
    {
     "data": {
      "image/png": "[encoded data removed]",
      "text/plain": [
       "<Figure size 432x432 with 1 Axes>"
      ]
     },
     "metadata": {
      "needs_background": "light"
     },
     "output_type": "display_data"
    }
   ],
   "source": [
    "fig, ax = plt.subplots(1,1,figsize=(6,6))\n",
    "\n",
    "sns.barplot(x=['Homes w/o Nuisances', 'Homes w/ Nuisances'],y=[no_nuisance_med, nuisance_med], ax=ax);"
   ]
  },
  {
   "cell_type": "markdown",
   "metadata": {},
   "source": [
    "### Mean Comparison"
   ]
  },
  {
   "cell_type": "code",
   "execution_count": 42,
   "metadata": {},
   "outputs": [
    {
     "name": "stdout",
     "output_type": "stream",
     "text": [
      "Median value of homes w/ nuisance: 708143.6989051095\n",
      "\n",
      "Median value of homes w/o nuisance: 776177.5422994309\n",
      "\n",
      "Homes that suffer don't from traffic noise have a mean value of about $68033.84 higher than homes that suffer from traffic noise.\n"
     ]
    }
   ],
   "source": [
    "nuisance_mean = nuisance.SalePrice.mean()\n",
    "no_nuisance_mean = no_nuisance.SalePrice.mean()\n",
    "mean_dif = round(abs(nuisance_mean-no_nuisance_mean), 2)\n",
    "\n",
    "print(f'Median value of homes w/ nuisance: {nuisance_mean}\\n')\n",
    "print(f'Median value of homes w/o nuisance: {no_nuisance_mean}\\n')\n",
    "\n",
    "print(f'Homes that suffer don\\'t from traffic noise have a mean value of about ${mean_dif} higher than homes that suffer from traffic noise.')"
   ]
  },
  {
   "cell_type": "code",
   "execution_count": 43,
   "metadata": {},
   "outputs": [
    {
     "data": {
      "image/png": "[encoded data removed]",
      "text/plain": [
       "<Figure size 432x432 with 1 Axes>"
      ]
     },
     "metadata": {
      "needs_background": "light"
     },
     "output_type": "display_data"
    }
   ],
   "source": [
    "fig, ax = plt.subplots(1,1,figsize=(6,6))\n",
    "\n",
    "sns.barplot(x=['Homes w/o nuisance', 'Homes w/ nuisance'],y=[no_nuisance_mean, nuisance_mean], ax=ax);"
   ]
  },
  {
   "cell_type": "markdown",
   "metadata": {},
   "source": [
    "### Distribution comparison"
   ]
  },
  {
   "cell_type": "code",
   "execution_count": 44,
   "metadata": {},
   "outputs": [
    {
     "data": {
      "image/png": "[encoded data removed]",
      "text/plain": [
       "<Figure size 792x792 with 1 Axes>"
      ]
     },
     "metadata": {
      "needs_background": "light"
     },
     "output_type": "display_data"
    }
   ],
   "source": [
    "fig, ax = plt.subplots(1,1,figsize=(11,11))\n",
    "\n",
    "sns.distplot(nuisance.SalePrice, ax=ax, color='orange', label='Nuisances')\n",
    "sns.distplot(no_nuisance.SalePrice, ax=ax, color='blue', label='No Nuisances')\n",
    "ax.legend()\n",
    "ax.set_title('Comparison of Distributions');"
   ]
  },
  {
   "cell_type": "markdown",
   "metadata": {},
   "source": [
    "# c. Test\n",
    "\n",
    "The homes with any nuisances show a lower lower mean home sale value, so the statistical significance of this is worth investigating.\n",
    "\n",
    "N<sub>0</sub>: The 2019 mean sale price of King County homes that do not suffer from nuisances is the same or lower than the 2019 mean sale price of King County homes that do suffer from nuisances.\n",
    "\n",
    "N<sub>A</sub>: The 2019 mean sale price of King County homes that do suffer from nuisances is higher than the 2019 mean sale price of King County homes that do not suffer from nuisances."
   ]
  },
  {
   "cell_type": "code",
   "execution_count": 45,
   "metadata": {},
   "outputs": [
    {
     "data": {
      "text/plain": [
       "Ttest_indResult(statistic=3.414723451176812, pvalue=0.0006836605796684605)"
      ]
     },
     "execution_count": 45,
     "metadata": {},
     "output_type": "execute_result"
    }
   ],
   "source": [
    "stats.ttest_ind(no_nuisance.SalePrice, nuisance.SalePrice, equal_var=False)"
   ]
  },
  {
   "cell_type": "markdown",
   "metadata": {},
   "source": [
    "### P-value = 0.139\n",
    "The difference in means between homes with or without nuisances is comparable to the difference found in homes with only extreme traffic noise. On top of that, our t-test indicated that this difference in means is not statistically significant, and could be due to chance."
   ]
  },
  {
   "cell_type": "markdown",
   "metadata": {},
   "source": [
    "# Conclusion\n",
    "\n",
    "We examined three main nuisances that were hypothesized to effect home value:\n",
    "- Airport noise\n",
    " - We found no entries in our data for homes that suffered from airport noise, so we could not examine this claim.\n",
    "\n",
    "- Traffic noise\n",
    " - We found very little difference between home sale values of homes with or without verying levels of traffic noise. \n",
    " - We did find that homes with extreme traffic noise did have much lower sale value, but this was deemed statistically insignificant and could be due to the extremely small sample size. \n",
    " - There did seem to be a sizeable group of low valued homes that suffered from traffic noise of all levels, which warrants further investigation.\n",
    "\n",
    "- Power lines\n",
    " - Despite a small sample size, we did find a statistically significant difference in mean sale values for homes with or without power line related nuisances. This shift was around $100,000.\n",
    "\n",
    "- All nuisances\n",
    " - We combined the extreme traffic noise subset witht he power line subset and found that this diminished the statistical significance of any difference.\n"
   ]
  },
  {
   "cell_type": "code",
   "execution_count": null,
   "metadata": {},
   "outputs": [],
   "source": []
  }
 ],
 "metadata": {
  "kernelspec": {
   "display_name": "Python 3",
   "language": "python",
   "name": "python3"
  },
  "language_info": {
   "codemirror_mode": {
    "name": "ipython",
    "version": 3
   },
   "file_extension": ".py",
   "mimetype": "text/x-python",
   "name": "python",
   "nbconvert_exporter": "python",
   "pygments_lexer": "ipython3",
   "version": "3.8.3"
  }
 },
 "nbformat": 4,
 "nbformat_minor": 4
}
