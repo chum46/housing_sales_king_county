{
 "cells": [
  {
   "cell_type": "markdown",
   "metadata": {},
   "source": [
    "# Exploration of 2019 Sales Data Zero Values."
   ]
  },
  {
   "cell_type": "code",
   "execution_count": 85,
   "metadata": {},
   "outputs": [
    {
     "name": "stdout",
     "output_type": "stream",
     "text": [
      "The autoreload extension is already loaded. To reload it, use:\n",
      "  %reload_ext autoreload\n"
     ]
    }
   ],
   "source": [
    "import pandas as pd\n",
    "import matplotlib.pyplot as plt\n",
    "import numpy as np\n",
    "from statsmodels.formula.api import ols\n",
    "from scipy import stats\n",
    "import seaborn as sns\n",
    "import statsmodels.api as sm\n",
    "pd.set_option('display.max_columns', None)\n",
    "pd.set_option(\"display.max_colwidth\", 0)\n",
    "#add auto reload for src function testing\n",
    "%load_ext autoreload\n",
    "%autoreload 2\n",
    "%matplotlib inline\n",
    "\n",
    "#let's add the project directory to our module path\n",
    "import os\n",
    "import sys\n",
    "\n",
    "module_path = os.path.abspath(os.path.join(os.pardir, os.pardir))\n",
    "if module_path not in sys.path:\n",
    "    sys.path.append(module_path)\n",
    "    \n",
    "    \n",
    "#also import all of our modules\n",
    "import pandas as pd\n",
    "import numpy as np\n",
    "from src import data_cleaning\n",
    "from src import cm_functions\n",
    "\n",
    "#and here is our data directiory\n",
    "data_folder = '../../data/'"
   ]
  },
  {
   "cell_type": "markdown",
   "metadata": {},
   "source": [
    "# Initial import of 2019 Sales Data containing Zero Values. We will also import our Description look up data frame to make sense of the values. Lastly, we have a function that will bring up our look up items and sort them chronologically."
   ]
  },
  {
   "cell_type": "code",
   "execution_count": 90,
   "metadata": {},
   "outputs": [],
   "source": [
    "sales_2019=pd.read_csv('../../data/EXTR_RPSale_2019.csv',dtype={'ExciseTaxNbr': 'string','Major': 'string','Minor': 'string','PIN':'string'})\n",
    "df_lu=pd.read_csv('../../data/EXTR_LookUp.csv')\n",
    "def LU_item(df,number):\n",
    "    \"\"\"Put in name of your Look up data frame then description number and it will use this Data frame. \n",
    "    To give the values associated with it and its descriptions from least to greatest\"\"\"\n",
    "    lu_list=df[df[\"LUType\"]== number]\n",
    "    return lu_list.sort_values(\"LUItem\", ascending=True)"
   ]
  },
  {
   "cell_type": "markdown",
   "metadata": {},
   "source": [
    "## Now we will access all of our zero values."
   ]
  },
  {
   "cell_type": "code",
   "execution_count": 91,
   "metadata": {},
   "outputs": [],
   "source": [
    "zero_sales=sales_2019[sales_2019[\"SalePrice\"]==0]"
   ]
  },
  {
   "cell_type": "markdown",
   "metadata": {},
   "source": [
    "## Les take a look at our Sale Instrument column and see how these sales were done."
   ]
  },
  {
   "cell_type": "code",
   "execution_count": 92,
   "metadata": {},
   "outputs": [
    {
     "data": {
      "text/plain": [
       "15    10410\n",
       "3     1882 \n",
       "26    343  \n",
       "24    267  \n",
       "2     232  \n",
       "27    100  \n",
       "4     93   \n",
       "22    42   \n",
       "18    35   \n",
       "21    9    \n",
       "19    8    \n",
       "20    2    \n",
       "23    1    \n",
       "1     1    \n",
       "Name: SaleInstrument, dtype: int64"
      ]
     },
     "execution_count": 92,
     "metadata": {},
     "output_type": "execute_result"
    }
   ],
   "source": [
    "zero_sales[\"SaleInstrument\"].value_counts()"
   ]
  },
  {
   "cell_type": "markdown",
   "metadata": {},
   "source": [
    "## To make sense of these values we will need to utlize our Look up date frame."
   ]
  },
  {
   "cell_type": "code",
   "execution_count": 94,
   "metadata": {},
   "outputs": [
    {
     "data": {
      "text/html": [
       "<div>\n",
       "<style scoped>\n",
       "    .dataframe tbody tr th:only-of-type {\n",
       "        vertical-align: middle;\n",
       "    }\n",
       "\n",
       "    .dataframe tbody tr th {\n",
       "        vertical-align: top;\n",
       "    }\n",
       "\n",
       "    .dataframe thead th {\n",
       "        text-align: right;\n",
       "    }\n",
       "</style>\n",
       "<table border=\"1\" class=\"dataframe\">\n",
       "  <thead>\n",
       "    <tr style=\"text-align: right;\">\n",
       "      <th></th>\n",
       "      <th>LUType</th>\n",
       "      <th>LUItem</th>\n",
       "      <th>LUDescription</th>\n",
       "    </tr>\n",
       "  </thead>\n",
       "  <tbody>\n",
       "    <tr>\n",
       "      <th>1002</th>\n",
       "      <td>6</td>\n",
       "      <td>1</td>\n",
       "      <td>None</td>\n",
       "    </tr>\n",
       "    <tr>\n",
       "      <th>1009</th>\n",
       "      <td>6</td>\n",
       "      <td>2</td>\n",
       "      <td>Warranty Deed</td>\n",
       "    </tr>\n",
       "    <tr>\n",
       "      <th>1019</th>\n",
       "      <td>6</td>\n",
       "      <td>3</td>\n",
       "      <td>Statutory Warranty Deed</td>\n",
       "    </tr>\n",
       "    <tr>\n",
       "      <th>1020</th>\n",
       "      <td>6</td>\n",
       "      <td>4</td>\n",
       "      <td>Special Warranty Deed</td>\n",
       "    </tr>\n",
       "    <tr>\n",
       "      <th>1021</th>\n",
       "      <td>6</td>\n",
       "      <td>5</td>\n",
       "      <td>Corporate Warranty Deed</td>\n",
       "    </tr>\n",
       "    <tr>\n",
       "      <th>1022</th>\n",
       "      <td>6</td>\n",
       "      <td>6</td>\n",
       "      <td>Assumption Warranty Deed</td>\n",
       "    </tr>\n",
       "    <tr>\n",
       "      <th>1023</th>\n",
       "      <td>6</td>\n",
       "      <td>7</td>\n",
       "      <td>Grant Deed</td>\n",
       "    </tr>\n",
       "    <tr>\n",
       "      <th>1024</th>\n",
       "      <td>6</td>\n",
       "      <td>8</td>\n",
       "      <td>Contract (equity)</td>\n",
       "    </tr>\n",
       "    <tr>\n",
       "      <th>1025</th>\n",
       "      <td>6</td>\n",
       "      <td>9</td>\n",
       "      <td>Contract (installment)</td>\n",
       "    </tr>\n",
       "    <tr>\n",
       "      <th>1003</th>\n",
       "      <td>6</td>\n",
       "      <td>10</td>\n",
       "      <td>Real Estate Contract</td>\n",
       "    </tr>\n",
       "    <tr>\n",
       "      <th>1004</th>\n",
       "      <td>6</td>\n",
       "      <td>11</td>\n",
       "      <td>Purchaser's Assignment</td>\n",
       "    </tr>\n",
       "    <tr>\n",
       "      <th>1005</th>\n",
       "      <td>6</td>\n",
       "      <td>13</td>\n",
       "      <td>Seller's Assignment</td>\n",
       "    </tr>\n",
       "    <tr>\n",
       "      <th>1006</th>\n",
       "      <td>6</td>\n",
       "      <td>15</td>\n",
       "      <td>Quit Claim Deed</td>\n",
       "    </tr>\n",
       "    <tr>\n",
       "      <th>1007</th>\n",
       "      <td>6</td>\n",
       "      <td>18</td>\n",
       "      <td>Trustees' Deed</td>\n",
       "    </tr>\n",
       "    <tr>\n",
       "      <th>1008</th>\n",
       "      <td>6</td>\n",
       "      <td>19</td>\n",
       "      <td>Executor's Deed</td>\n",
       "    </tr>\n",
       "    <tr>\n",
       "      <th>1010</th>\n",
       "      <td>6</td>\n",
       "      <td>20</td>\n",
       "      <td>Fiduciary Deed</td>\n",
       "    </tr>\n",
       "    <tr>\n",
       "      <th>1011</th>\n",
       "      <td>6</td>\n",
       "      <td>21</td>\n",
       "      <td>Sheriff's Deed</td>\n",
       "    </tr>\n",
       "    <tr>\n",
       "      <th>1012</th>\n",
       "      <td>6</td>\n",
       "      <td>22</td>\n",
       "      <td>Bargain and Sales Deed</td>\n",
       "    </tr>\n",
       "    <tr>\n",
       "      <th>1013</th>\n",
       "      <td>6</td>\n",
       "      <td>23</td>\n",
       "      <td>Receivers Deed</td>\n",
       "    </tr>\n",
       "    <tr>\n",
       "      <th>1014</th>\n",
       "      <td>6</td>\n",
       "      <td>24</td>\n",
       "      <td>Deed of Personal Rep</td>\n",
       "    </tr>\n",
       "    <tr>\n",
       "      <th>1015</th>\n",
       "      <td>6</td>\n",
       "      <td>25</td>\n",
       "      <td>Judgment Per Stipulation</td>\n",
       "    </tr>\n",
       "    <tr>\n",
       "      <th>1016</th>\n",
       "      <td>6</td>\n",
       "      <td>26</td>\n",
       "      <td>Other - See Affidavit</td>\n",
       "    </tr>\n",
       "    <tr>\n",
       "      <th>1017</th>\n",
       "      <td>6</td>\n",
       "      <td>27</td>\n",
       "      <td>DEED</td>\n",
       "    </tr>\n",
       "    <tr>\n",
       "      <th>1018</th>\n",
       "      <td>6</td>\n",
       "      <td>28</td>\n",
       "      <td>Forfeiture Real Estate Contract</td>\n",
       "    </tr>\n",
       "  </tbody>\n",
       "</table>\n",
       "</div>"
      ],
      "text/plain": [
       "      LUType  LUItem                                       LUDescription\n",
       "1002  6       1       None                                              \n",
       "1009  6       2       Warranty Deed                                     \n",
       "1019  6       3       Statutory Warranty Deed                           \n",
       "1020  6       4       Special Warranty Deed                             \n",
       "1021  6       5       Corporate Warranty Deed                           \n",
       "1022  6       6       Assumption Warranty Deed                          \n",
       "1023  6       7       Grant Deed                                        \n",
       "1024  6       8       Contract (equity)                                 \n",
       "1025  6       9       Contract (installment)                            \n",
       "1003  6       10      Real Estate Contract                              \n",
       "1004  6       11      Purchaser's Assignment                            \n",
       "1005  6       13      Seller's Assignment                               \n",
       "1006  6       15      Quit Claim Deed                                   \n",
       "1007  6       18      Trustees' Deed                                    \n",
       "1008  6       19      Executor's Deed                                   \n",
       "1010  6       20      Fiduciary Deed                                    \n",
       "1011  6       21      Sheriff's Deed                                    \n",
       "1012  6       22      Bargain and Sales Deed                            \n",
       "1013  6       23      Receivers Deed                                    \n",
       "1014  6       24      Deed of Personal Rep                              \n",
       "1015  6       25      Judgment Per Stipulation                          \n",
       "1016  6       26      Other - See Affidavit                             \n",
       "1017  6       27      DEED                                              \n",
       "1018  6       28      Forfeiture Real Estate Contract                   "
      ]
     },
     "execution_count": 94,
     "metadata": {},
     "output_type": "execute_result"
    }
   ],
   "source": [
    "SaleInstrument=LU_item(df_lu,6)\n",
    "SaleInstrument"
   ]
  },
  {
   "cell_type": "markdown",
   "metadata": {},
   "source": [
    "[Click this link to gain more insight into Deed types](https://thismatter.com/money/real-estate/deed-types.htm)"
   ]
  },
  {
   "cell_type": "markdown",
   "metadata": {},
   "source": [
    "## Now that we see that our values mean we can sort the number "
   ]
  },
  {
   "cell_type": "code",
   "execution_count": 87,
   "metadata": {},
   "outputs": [
    {
     "data": {
      "text/plain": [
       "[10410, 1882, 343, 267, 232, 100, 93, 42, 35, 9, 8, 2, 1, 1]"
      ]
     },
     "execution_count": 87,
     "metadata": {},
     "output_type": "execute_result"
    }
   ],
   "source": [
    "zero_list=list(zero_sales[\"SaleInstrument\"].value_counts())\n",
    "zero_list"
   ]
  },
  {
   "cell_type": "markdown",
   "metadata": {},
   "source": [
    "## We now gather the sum of all the values aded together to help us calculate the prcentage per sale instrument."
   ]
  },
  {
   "cell_type": "code",
   "execution_count": 66,
   "metadata": {},
   "outputs": [
    {
     "data": {
      "text/plain": [
       "[13425]"
      ]
     },
     "execution_count": 66,
     "metadata": {},
     "output_type": "execute_result"
    }
   ],
   "source": [
    "sum_values=[10410+1882+ 343+ 267+ 232+ 100+ 93+ 42+ 35+ 9+ 8+ 2+ 1+ 1]\n",
    "sum_values"
   ]
  },
  {
   "cell_type": "markdown",
   "metadata": {},
   "source": [
    "## Now we run this through a loop to allow for our percentage values to be added to our percentage list."
   ]
  },
  {
   "cell_type": "code",
   "execution_count": 95,
   "metadata": {},
   "outputs": [],
   "source": [
    "zero__values_percentage=[]\n",
    "values=[10410, 1882, 343, 267, 232, 100, 93, 42, 35, 9, 8, 2, 1, 1]\n",
    "for x in values:\n",
    "    quo=(x/13425)*100\n",
    "    zero__values_percentage.append(quo)\n"
   ]
  },
  {
   "cell_type": "code",
   "execution_count": 97,
   "metadata": {},
   "outputs": [
    {
     "data": {
      "text/plain": [
       "[77.54189944134077,\n",
       " 14.018621973929237,\n",
       " 2.5549348230912474,\n",
       " 1.9888268156424582,\n",
       " 1.728119180633147,\n",
       " 0.74487895716946,\n",
       " 0.6927374301675978,\n",
       " 0.3128491620111732,\n",
       " 0.260707635009311,\n",
       " 0.0670391061452514,\n",
       " 0.059590316573556804,\n",
       " 0.014897579143389201,\n",
       " 0.0074487895716946004,\n",
       " 0.0074487895716946004]"
      ]
     },
     "execution_count": 97,
     "metadata": {},
     "output_type": "execute_result"
    }
   ],
   "source": [
    "zero__values_percentage"
   ]
  },
  {
   "cell_type": "markdown",
   "metadata": {},
   "source": [
    "## The next step is to create our x axis tick marks for each percentage value and they apporiate desccription on the Look up table."
   ]
  },
  {
   "cell_type": "code",
   "execution_count": 18,
   "metadata": {},
   "outputs": [],
   "source": [
    "name_list= [\"Quit Claim Deed\", \"Statutory Warranty Deed\",\"Other - See Affidavit\",\"Deed of Personal Rep\", \"Warranty Deed\",\"DEED\",\"Special Warranty Deed\",\n",
    "\"Bargain and Sales Deed\",\"Trustees Deed\", \"Sheriff's Deed\",\"Executor's Deed\",\"Fiduciary Deed\",\"Receivers Deed\",\"N/A\"]"
   ]
  },
  {
   "cell_type": "markdown",
   "metadata": {},
   "source": [
    "## Lastly, we will plot the data to have nice viusal of our data."
   ]
  },
  {
   "cell_type": "code",
   "execution_count": 100,
   "metadata": {},
   "outputs": [
    {
     "data": {
      "image/png": "[encoded data removed]",
      "text/plain": [
       "<Figure size 720x720 with 1 Axes>"
      ]
     },
     "metadata": {
      "needs_background": "light"
     },
     "output_type": "display_data"
    }
   ],
   "source": [
    "plt.figure(figsize=(10,10))\n",
    "plt.bar(x= name_list, height=zero__values_percentage);\n",
    "plt.ylabel('Percentage of Zero values', fontsize=24,fontname=\"Gill Sans MT\")\n",
    "plt.title('Percentage of 2019 Sales Data Zero Values per Sale Instrument', fontsize=20,fontname=\"Gill Sans MT\")\n",
    "plt.xlabel('Sale Instrument', fontsize=24,fontname=\"Gill Sans MT\")\n",
    "degrees = 70\n",
    "plt.xticks(fontsize=15,rotation=85)\n",
    "plt.yticks(fontsize=15)\n",
    "plt.ylim(0, 100)\n",
    "\n",
    "plt.savefig('Zdata.png', transparent=True,dpi=300, bbox_inches = \"tight\")\n",
    "plt.show()"
   ]
  },
  {
   "cell_type": "markdown",
   "metadata": {},
   "source": [
    " \n",
    "## This plot shows us that majoritiy of the zero values are quit claim deeds ~77%. This means that the house was passed from the grantor to the grantee. So this is an example of a sort of in heritance. This would make sense because most granteee do no pay for a inherited gift so the sales value is zero."
   ]
  }
 ],
 "metadata": {
  "kernelspec": {
   "display_name": "Python 3 (housing)",
   "language": "python",
   "name": "housing"
  },
  "language_info": {
   "codemirror_mode": {
    "name": "ipython",
    "version": 3
   },
   "file_extension": ".py",
   "mimetype": "text/x-python",
   "name": "python",
   "nbconvert_exporter": "python",
   "pygments_lexer": "ipython3",
   "version": "3.8.3"
  }
 },
 "nbformat": 4,
 "nbformat_minor": 4
}
