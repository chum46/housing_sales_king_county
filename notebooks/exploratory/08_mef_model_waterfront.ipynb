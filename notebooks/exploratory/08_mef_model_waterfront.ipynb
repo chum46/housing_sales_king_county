{
 "cells": [
  {
   "cell_type": "code",
   "execution_count": 1,
   "metadata": {},
   "outputs": [],
   "source": [
    "#add auto reload for src function testing\n",
    "%load_ext autoreload\n",
    "%autoreload 2\n",
    "\n",
    "#let's add the project directory to our module path\n",
    "import os\n",
    "import sys\n",
    "\n",
    "module_path = os.path.abspath(os.path.join(os.pardir, os.pardir))\n",
    "if module_path not in sys.path:\n",
    "    sys.path.append(module_path)\n",
    "    \n",
    "    \n",
    "#also import all of our modules\n",
    "import pandas as pd\n",
    "import numpy as np\n",
    "from scipy import stats\n",
    "import matplotlib.pyplot as plt\n",
    "import seaborn as sns\n",
    "from src import data_cleaning\n",
    "from src import cm_functions\n",
    "\n",
    "#and here is our data directiory\n",
    "data_folder = '../../data/'"
   ]
  },
  {
   "cell_type": "code",
   "execution_count": 2,
   "metadata": {},
   "outputs": [],
   "source": [
    "fsm_data = pd.read_csv(data_folder+'fsm_data.csv',dtype={'PIN': 'string'}, index_col=0)\n",
    "parcels = pd.read_csv(data_folder+'EXTR_Parcel_final.csv',dtype={'Major': 'string', 'Minor':'string', 'PIN': 'string'})\n",
    "res_bldg = pd.read_csv(data_folder+'EXTR_ResBldg_final.csv', dtype={'Major':'string', 'Minor':'string', 'PIN':'string'})"
   ]
  },
  {
   "cell_type": "code",
   "execution_count": 3,
   "metadata": {},
   "outputs": [
    {
     "data": {
      "text/html": [
       "<div>\n",
       "<style scoped>\n",
       "    .dataframe tbody tr th:only-of-type {\n",
       "        vertical-align: middle;\n",
       "    }\n",
       "\n",
       "    .dataframe tbody tr th {\n",
       "        vertical-align: top;\n",
       "    }\n",
       "\n",
       "    .dataframe thead th {\n",
       "        text-align: right;\n",
       "    }\n",
       "</style>\n",
       "<table border=\"1\" class=\"dataframe\">\n",
       "  <thead>\n",
       "    <tr style=\"text-align: right;\">\n",
       "      <th></th>\n",
       "      <th>LogSalePrice</th>\n",
       "      <th>LogSqFt</th>\n",
       "      <th>PIN</th>\n",
       "    </tr>\n",
       "  </thead>\n",
       "  <tbody>\n",
       "    <tr>\n",
       "      <th>0</th>\n",
       "      <td>13.235692</td>\n",
       "      <td>3.285557</td>\n",
       "      <td>2130430120</td>\n",
       "    </tr>\n",
       "    <tr>\n",
       "      <th>1</th>\n",
       "      <td>12.983101</td>\n",
       "      <td>3.295567</td>\n",
       "      <td>9406520630</td>\n",
       "    </tr>\n",
       "    <tr>\n",
       "      <th>2</th>\n",
       "      <td>13.017003</td>\n",
       "      <td>3.033424</td>\n",
       "      <td>1402810020</td>\n",
       "    </tr>\n",
       "    <tr>\n",
       "      <th>3</th>\n",
       "      <td>12.170445</td>\n",
       "      <td>3.245513</td>\n",
       "      <td>1245500098</td>\n",
       "    </tr>\n",
       "    <tr>\n",
       "      <th>4</th>\n",
       "      <td>13.199324</td>\n",
       "      <td>3.093422</td>\n",
       "      <td>7973202320</td>\n",
       "    </tr>\n",
       "    <tr>\n",
       "      <th>...</th>\n",
       "      <td>...</td>\n",
       "      <td>...</td>\n",
       "      <td>...</td>\n",
       "    </tr>\n",
       "    <tr>\n",
       "      <th>28251</th>\n",
       "      <td>14.001990</td>\n",
       "      <td>3.459392</td>\n",
       "      <td>9290850760</td>\n",
       "    </tr>\n",
       "    <tr>\n",
       "      <th>28252</th>\n",
       "      <td>12.999065</td>\n",
       "      <td>3.155336</td>\n",
       "      <td>4059400095</td>\n",
       "    </tr>\n",
       "    <tr>\n",
       "      <th>28253</th>\n",
       "      <td>13.429848</td>\n",
       "      <td>3.356026</td>\n",
       "      <td>3816700025</td>\n",
       "    </tr>\n",
       "    <tr>\n",
       "      <th>28254</th>\n",
       "      <td>13.521139</td>\n",
       "      <td>3.352183</td>\n",
       "      <td>6150200505</td>\n",
       "    </tr>\n",
       "    <tr>\n",
       "      <th>28255</th>\n",
       "      <td>13.769467</td>\n",
       "      <td>3.260071</td>\n",
       "      <td>2771104239</td>\n",
       "    </tr>\n",
       "  </tbody>\n",
       "</table>\n",
       "<p>28208 rows × 3 columns</p>\n",
       "</div>"
      ],
      "text/plain": [
       "       LogSalePrice   LogSqFt         PIN\n",
       "0         13.235692  3.285557  2130430120\n",
       "1         12.983101  3.295567  9406520630\n",
       "2         13.017003  3.033424  1402810020\n",
       "3         12.170445  3.245513  1245500098\n",
       "4         13.199324  3.093422  7973202320\n",
       "...             ...       ...         ...\n",
       "28251     14.001990  3.459392  9290850760\n",
       "28252     12.999065  3.155336  4059400095\n",
       "28253     13.429848  3.356026  3816700025\n",
       "28254     13.521139  3.352183  6150200505\n",
       "28255     13.769467  3.260071  2771104239\n",
       "\n",
       "[28208 rows x 3 columns]"
      ]
     },
     "execution_count": 3,
     "metadata": {},
     "output_type": "execute_result"
    }
   ],
   "source": [
    "fsm_data"
   ]
  },
  {
   "cell_type": "markdown",
   "metadata": {},
   "source": [
    "# Does a waterfront affect home value in a way that helps our model?"
   ]
  },
  {
   "cell_type": "code",
   "execution_count": 8,
   "metadata": {},
   "outputs": [],
   "source": [
    "second_model_data = pd.merge(fsm_data, parcels, how='inner', on='PIN')"
   ]
  },
  {
   "cell_type": "code",
   "execution_count": 13,
   "metadata": {},
   "outputs": [
    {
     "data": {
      "text/plain": [
       "394"
      ]
     },
     "execution_count": 13,
     "metadata": {},
     "output_type": "execute_result"
    }
   ],
   "source": [
    "second_model_data['is_waterfront'] = (second_model_data['WfntLocation'] != 0).astype('int')\n",
    "second_model_data.is_waterfront.sum()"
   ]
  },
  {
   "cell_type": "code",
   "execution_count": 15,
   "metadata": {},
   "outputs": [
    {
     "data": {
      "text/html": [
       "<div>\n",
       "<style scoped>\n",
       "    .dataframe tbody tr th:only-of-type {\n",
       "        vertical-align: middle;\n",
       "    }\n",
       "\n",
       "    .dataframe tbody tr th {\n",
       "        vertical-align: top;\n",
       "    }\n",
       "\n",
       "    .dataframe thead th {\n",
       "        text-align: right;\n",
       "    }\n",
       "</style>\n",
       "<table border=\"1\" class=\"dataframe\">\n",
       "  <thead>\n",
       "    <tr style=\"text-align: right;\">\n",
       "      <th></th>\n",
       "      <th>LogSalePrice</th>\n",
       "      <th>LogSqFt</th>\n",
       "      <th>is_waterfront</th>\n",
       "      <th>PIN</th>\n",
       "    </tr>\n",
       "  </thead>\n",
       "  <tbody>\n",
       "    <tr>\n",
       "      <th>0</th>\n",
       "      <td>13.235692</td>\n",
       "      <td>3.285557</td>\n",
       "      <td>0</td>\n",
       "      <td>2130430120</td>\n",
       "    </tr>\n",
       "    <tr>\n",
       "      <th>1</th>\n",
       "      <td>12.983101</td>\n",
       "      <td>3.295567</td>\n",
       "      <td>0</td>\n",
       "      <td>9406520630</td>\n",
       "    </tr>\n",
       "    <tr>\n",
       "      <th>2</th>\n",
       "      <td>13.017003</td>\n",
       "      <td>3.033424</td>\n",
       "      <td>0</td>\n",
       "      <td>1402810020</td>\n",
       "    </tr>\n",
       "    <tr>\n",
       "      <th>3</th>\n",
       "      <td>12.170445</td>\n",
       "      <td>3.245513</td>\n",
       "      <td>0</td>\n",
       "      <td>1245500098</td>\n",
       "    </tr>\n",
       "    <tr>\n",
       "      <th>4</th>\n",
       "      <td>13.199324</td>\n",
       "      <td>3.093422</td>\n",
       "      <td>0</td>\n",
       "      <td>7973202320</td>\n",
       "    </tr>\n",
       "    <tr>\n",
       "      <th>...</th>\n",
       "      <td>...</td>\n",
       "      <td>...</td>\n",
       "      <td>...</td>\n",
       "      <td>...</td>\n",
       "    </tr>\n",
       "    <tr>\n",
       "      <th>28203</th>\n",
       "      <td>14.001990</td>\n",
       "      <td>3.459392</td>\n",
       "      <td>0</td>\n",
       "      <td>9290850760</td>\n",
       "    </tr>\n",
       "    <tr>\n",
       "      <th>28204</th>\n",
       "      <td>12.999065</td>\n",
       "      <td>3.155336</td>\n",
       "      <td>0</td>\n",
       "      <td>4059400095</td>\n",
       "    </tr>\n",
       "    <tr>\n",
       "      <th>28205</th>\n",
       "      <td>13.429848</td>\n",
       "      <td>3.356026</td>\n",
       "      <td>0</td>\n",
       "      <td>3816700025</td>\n",
       "    </tr>\n",
       "    <tr>\n",
       "      <th>28206</th>\n",
       "      <td>13.521139</td>\n",
       "      <td>3.352183</td>\n",
       "      <td>0</td>\n",
       "      <td>6150200505</td>\n",
       "    </tr>\n",
       "    <tr>\n",
       "      <th>28207</th>\n",
       "      <td>13.769467</td>\n",
       "      <td>3.260071</td>\n",
       "      <td>0</td>\n",
       "      <td>2771104239</td>\n",
       "    </tr>\n",
       "  </tbody>\n",
       "</table>\n",
       "<p>28208 rows × 4 columns</p>\n",
       "</div>"
      ],
      "text/plain": [
       "       LogSalePrice   LogSqFt  is_waterfront         PIN\n",
       "0         13.235692  3.285557              0  2130430120\n",
       "1         12.983101  3.295567              0  9406520630\n",
       "2         13.017003  3.033424              0  1402810020\n",
       "3         12.170445  3.245513              0  1245500098\n",
       "4         13.199324  3.093422              0  7973202320\n",
       "...             ...       ...            ...         ...\n",
       "28203     14.001990  3.459392              0  9290850760\n",
       "28204     12.999065  3.155336              0  4059400095\n",
       "28205     13.429848  3.356026              0  3816700025\n",
       "28206     13.521139  3.352183              0  6150200505\n",
       "28207     13.769467  3.260071              0  2771104239\n",
       "\n",
       "[28208 rows x 4 columns]"
      ]
     },
     "execution_count": 15,
     "metadata": {},
     "output_type": "execute_result"
    }
   ],
   "source": [
    "second_model_data = second_model_data.loc[:,['LogSalePrice', 'LogSqFt', 'is_waterfront', 'PIN']]\n",
    "second_model_data"
   ]
  },
  {
   "cell_type": "code",
   "execution_count": 16,
   "metadata": {},
   "outputs": [],
   "source": [
    "test_df = second_model_data.loc[:,['LogSalePrice', 'LogSqFt', 'is_waterfront']]"
   ]
  },
  {
   "cell_type": "markdown",
   "metadata": {},
   "source": [
    "## Now let's test it"
   ]
  },
  {
   "cell_type": "code",
   "execution_count": 18,
   "metadata": {},
   "outputs": [
    {
     "name": "stdout",
     "output_type": "stream",
     "text": [
      "Rsquared: 0.34863648431421757\n",
      "BETA values:\n",
      "Intercept        8.017084\n",
      "LogSqFt          1.638537\n",
      "is_waterfront    0.418290\n",
      "dtype: float64\n",
      "------------------------------------\n",
      " \n",
      "                            OLS Regression Results                            \n",
      "==============================================================================\n",
      "Dep. Variable:           LogSalePrice   R-squared:                       0.349\n",
      "Model:                            OLS   Adj. R-squared:                  0.349\n",
      "Method:                 Least Squares   F-statistic:                     7548.\n",
      "Date:                Thu, 18 Jun 2020   Prob (F-statistic):               0.00\n",
      "Time:                        12:11:14   Log-Likelihood:                -15829.\n",
      "No. Observations:               28208   AIC:                         3.166e+04\n",
      "Df Residuals:                   28205   BIC:                         3.169e+04\n",
      "Df Model:                           2                                         \n",
      "Covariance Type:            nonrobust                                         \n",
      "=================================================================================\n",
      "                    coef    std err          t      P>|t|      [0.025      0.975]\n",
      "---------------------------------------------------------------------------------\n",
      "Intercept         8.0171      0.045    178.454      0.000       7.929       8.105\n",
      "LogSqFt           1.6385      0.014    120.412      0.000       1.612       1.665\n",
      "is_waterfront     0.4183      0.022     19.423      0.000       0.376       0.461\n",
      "==============================================================================\n",
      "Omnibus:                     1034.768   Durbin-Watson:                   1.886\n",
      "Prob(Omnibus):                  0.000   Jarque-Bera (JB):             2924.594\n",
      "Skew:                          -0.110   Prob(JB):                         0.00\n",
      "Kurtosis:                       4.562   Cond. No.                         64.1\n",
      "==============================================================================\n",
      "\n",
      "Warnings:\n",
      "[1] Standard Errors assume that the covariance matrix of the errors is correctly specified.\n"
     ]
    }
   ],
   "source": [
    "model = cm_functions.get_fsm(test_df)"
   ]
  },
  {
   "cell_type": "code",
   "execution_count": 19,
   "metadata": {},
   "outputs": [
    {
     "name": "stdout",
     "output_type": "stream",
     "text": [
      "Lagrange Multiplier p-value: 0.0\n",
      "F-statistic p-value: 0.0\n",
      "\n",
      "\n",
      "The null hypothesis is homoscedasticity, alternative hypothesis is heteroscedasticity.    Thus returning a low p-value means that the current model violates the homoscedasticity assumption\n"
     ]
    },
    {
     "data": {
      "image/png": "[encoded data removed]",
      "text/plain": [
       "<Figure size 432x288 with 1 Axes>"
      ]
     },
     "metadata": {
      "needs_background": "light"
     },
     "output_type": "display_data"
    }
   ],
   "source": [
    "cm_functions.lr_homoscad(model,test_df)"
   ]
  },
  {
   "cell_type": "code",
   "execution_count": 20,
   "metadata": {},
   "outputs": [
    {
     "name": "stdout",
     "output_type": "stream",
     "text": [
      "Rainbow statistic: 0.9647774939243181\n",
      "Rainbow p-value: 0.9833742619453025\n"
     ]
    },
    {
     "data": {
      "text/plain": [
       "(0.9647774939243181, 0.9833742619453025)"
      ]
     },
     "execution_count": 20,
     "metadata": {},
     "output_type": "execute_result"
    }
   ],
   "source": [
    "cm_functions.lr_linear(model)"
   ]
  },
  {
   "cell_type": "code",
   "execution_count": 21,
   "metadata": {},
   "outputs": [
    {
     "data": {
      "image/png": "[encoded data removed]",
      "text/plain": [
       "<Figure size 432x288 with 1 Axes>"
      ]
     },
     "metadata": {
      "needs_background": "light"
     },
     "output_type": "display_data"
    }
   ],
   "source": [
    "cm_functions.lr_normality(model)"
   ]
  },
  {
   "cell_type": "code",
   "execution_count": 22,
   "metadata": {},
   "outputs": [],
   "source": [
    "second_model_data.to_csv(data_folder+'model_2.csv')"
   ]
  },
  {
   "cell_type": "code",
   "execution_count": null,
   "metadata": {},
   "outputs": [],
   "source": []
  }
 ],
 "metadata": {
  "kernelspec": {
   "display_name": "Python 3",
   "language": "python",
   "name": "python3"
  },
  "language_info": {
   "codemirror_mode": {
    "name": "ipython",
    "version": 3
   },
   "file_extension": ".py",
   "mimetype": "text/x-python",
   "name": "python",
   "nbconvert_exporter": "python",
   "pygments_lexer": "ipython3",
   "version": "3.8.3"
  }
 },
 "nbformat": 4,
 "nbformat_minor": 4
}
