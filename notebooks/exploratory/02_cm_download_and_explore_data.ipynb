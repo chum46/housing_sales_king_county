{
 "cells": [
  {
   "cell_type": "markdown",
   "metadata": {},
   "source": [
    "# EXPLORATORY NOTEBOOK"
   ]
  },
  {
   "cell_type": "markdown",
   "metadata": {},
   "source": [
    "## Goals\n",
    "\n",
    "3. Having a beachfront or lakefront increases home sale price5\n",
    "4. The house filling a higher proportion of the overall lot decreases home sale price6\n",
    "\n",
    "\n",
    "    \"How did you pick the question(s) that you did?\"\n",
    "    \"Why are these questions important from a business perspective?\"\n",
    "    \"How did you decide on the data cleaning options you performed?\"\n",
    "    \"Why did you choose a given method or library?\"\n",
    "    \"Why did you select those visualizations and what did you learn from each of them?\"\n",
    "    \"Why did you pick those features as predictors?\"\n",
    "    \"How would you interpret the results?\"\n",
    "    \"How confident are you in the predictive quality of the results?\"\n",
    "    \"What are some of the things that could cause the results to be wrong?\""
   ]
  },
  {
   "cell_type": "markdown",
   "metadata": {},
   "source": [
    "## PLAN\n",
    "\n",
    "  *  Import required Libraries and database\n",
    "  *  Filter data\n",
    "  *  Clean dataset Pandas\n",
    "  *  Store the required data into accessible variables\n",
    "  \n",
    "#### COLUMNS OF NOTE"
   ]
  },
  {
   "cell_type": "code",
   "execution_count": null,
   "metadata": {},
   "outputs": [],
   "source": []
  },
  {
   "cell_type": "code",
   "execution_count": null,
   "metadata": {},
   "outputs": [],
   "source": []
  },
  {
   "cell_type": "code",
   "execution_count": null,
   "metadata": {},
   "outputs": [],
   "source": []
  },
  {
   "cell_type": "code",
   "execution_count": null,
   "metadata": {},
   "outputs": [],
   "source": []
  },
  {
   "cell_type": "code",
   "execution_count": null,
   "metadata": {},
   "outputs": [],
   "source": []
  }
 ],
 "metadata": {
  "kernelspec": {
   "display_name": "Python 3 (housing)",
   "language": "python",
   "name": "housing"
  },
  "language_info": {
   "codemirror_mode": {
    "name": "ipython",
    "version": 3
   },
   "file_extension": ".py",
   "mimetype": "text/x-python",
   "name": "python",
   "nbconvert_exporter": "python",
   "pygments_lexer": "ipython3",
   "version": "3.8.3"
  }
 },
 "nbformat": 4,
 "nbformat_minor": 4
}