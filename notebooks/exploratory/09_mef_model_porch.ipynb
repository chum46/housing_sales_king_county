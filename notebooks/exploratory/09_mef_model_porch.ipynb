{
 "cells": [
  {
   "cell_type": "code",
   "execution_count": 1,
   "metadata": {},
   "outputs": [],
   "source": [
    "#add auto reload for src function testing\n",
    "%load_ext autoreload\n",
    "%autoreload 2\n",
    "\n",
    "#let's add the project directory to our module path\n",
    "import os\n",
    "import sys\n",
    "\n",
    "module_path = os.path.abspath(os.path.join(os.pardir, os.pardir))\n",
    "if module_path not in sys.path:\n",
    "    sys.path.append(module_path)\n",
    "    \n",
    "    \n",
    "#also import all of our modules\n",
    "import pandas as pd\n",
    "import numpy as np\n",
    "from scipy import stats\n",
    "import matplotlib.pyplot as plt\n",
    "import seaborn as sns\n",
    "from src import data_cleaning\n",
    "from src import cm_functions\n",
    "\n",
    "#and here is our data directiory\n",
    "data_folder = '../../data/'"
   ]
  },
  {
   "cell_type": "code",
   "execution_count": 2,
   "metadata": {},
   "outputs": [],
   "source": [
    "model_2_data = pd.read_csv(data_folder+'model_2.csv',dtype={'PIN': 'string'}, index_col=0)\n",
    "parcels = pd.read_csv(data_folder+'EXTR_Parcel_final.csv',dtype={'Major': 'string', 'Minor':'string', 'PIN': 'string'})\n",
    "res_bldg = pd.read_csv(data_folder+'EXTR_ResBldg_final.csv', dtype={'Major':'string', 'Minor':'string', 'PIN':'string'})"
   ]
  },
  {
   "cell_type": "code",
   "execution_count": 3,
   "metadata": {},
   "outputs": [
    {
     "data": {
      "text/html": [
       "<div>\n",
       "<style scoped>\n",
       "    .dataframe tbody tr th:only-of-type {\n",
       "        vertical-align: middle;\n",
       "    }\n",
       "\n",
       "    .dataframe tbody tr th {\n",
       "        vertical-align: top;\n",
       "    }\n",
       "\n",
       "    .dataframe thead th {\n",
       "        text-align: right;\n",
       "    }\n",
       "</style>\n",
       "<table border=\"1\" class=\"dataframe\">\n",
       "  <thead>\n",
       "    <tr style=\"text-align: right;\">\n",
       "      <th></th>\n",
       "      <th>LogSalePrice</th>\n",
       "      <th>LogSqFt</th>\n",
       "      <th>is_waterfront</th>\n",
       "      <th>PIN</th>\n",
       "    </tr>\n",
       "  </thead>\n",
       "  <tbody>\n",
       "    <tr>\n",
       "      <th>0</th>\n",
       "      <td>13.235692</td>\n",
       "      <td>3.285557</td>\n",
       "      <td>0</td>\n",
       "      <td>2130430120</td>\n",
       "    </tr>\n",
       "    <tr>\n",
       "      <th>1</th>\n",
       "      <td>12.983101</td>\n",
       "      <td>3.295567</td>\n",
       "      <td>0</td>\n",
       "      <td>9406520630</td>\n",
       "    </tr>\n",
       "    <tr>\n",
       "      <th>2</th>\n",
       "      <td>13.017003</td>\n",
       "      <td>3.033424</td>\n",
       "      <td>0</td>\n",
       "      <td>1402810020</td>\n",
       "    </tr>\n",
       "    <tr>\n",
       "      <th>3</th>\n",
       "      <td>12.170445</td>\n",
       "      <td>3.245513</td>\n",
       "      <td>0</td>\n",
       "      <td>1245500098</td>\n",
       "    </tr>\n",
       "    <tr>\n",
       "      <th>4</th>\n",
       "      <td>13.199324</td>\n",
       "      <td>3.093422</td>\n",
       "      <td>0</td>\n",
       "      <td>7973202320</td>\n",
       "    </tr>\n",
       "    <tr>\n",
       "      <th>...</th>\n",
       "      <td>...</td>\n",
       "      <td>...</td>\n",
       "      <td>...</td>\n",
       "      <td>...</td>\n",
       "    </tr>\n",
       "    <tr>\n",
       "      <th>28203</th>\n",
       "      <td>14.001990</td>\n",
       "      <td>3.459392</td>\n",
       "      <td>0</td>\n",
       "      <td>9290850760</td>\n",
       "    </tr>\n",
       "    <tr>\n",
       "      <th>28204</th>\n",
       "      <td>12.999065</td>\n",
       "      <td>3.155336</td>\n",
       "      <td>0</td>\n",
       "      <td>4059400095</td>\n",
       "    </tr>\n",
       "    <tr>\n",
       "      <th>28205</th>\n",
       "      <td>13.429848</td>\n",
       "      <td>3.356026</td>\n",
       "      <td>0</td>\n",
       "      <td>3816700025</td>\n",
       "    </tr>\n",
       "    <tr>\n",
       "      <th>28206</th>\n",
       "      <td>13.521139</td>\n",
       "      <td>3.352183</td>\n",
       "      <td>0</td>\n",
       "      <td>6150200505</td>\n",
       "    </tr>\n",
       "    <tr>\n",
       "      <th>28207</th>\n",
       "      <td>13.769467</td>\n",
       "      <td>3.260071</td>\n",
       "      <td>0</td>\n",
       "      <td>2771104239</td>\n",
       "    </tr>\n",
       "  </tbody>\n",
       "</table>\n",
       "<p>28208 rows × 4 columns</p>\n",
       "</div>"
      ],
      "text/plain": [
       "       LogSalePrice   LogSqFt  is_waterfront         PIN\n",
       "0         13.235692  3.285557              0  2130430120\n",
       "1         12.983101  3.295567              0  9406520630\n",
       "2         13.017003  3.033424              0  1402810020\n",
       "3         12.170445  3.245513              0  1245500098\n",
       "4         13.199324  3.093422              0  7973202320\n",
       "...             ...       ...            ...         ...\n",
       "28203     14.001990  3.459392              0  9290850760\n",
       "28204     12.999065  3.155336              0  4059400095\n",
       "28205     13.429848  3.356026              0  3816700025\n",
       "28206     13.521139  3.352183              0  6150200505\n",
       "28207     13.769467  3.260071              0  2771104239\n",
       "\n",
       "[28208 rows x 4 columns]"
      ]
     },
     "execution_count": 3,
     "metadata": {},
     "output_type": "execute_result"
    }
   ],
   "source": [
    "model_2_data"
   ]
  },
  {
   "cell_type": "markdown",
   "metadata": {},
   "source": [
    "# Does having a porch affect home value in a way that helps our model?"
   ]
  },
  {
   "cell_type": "code",
   "execution_count": 4,
   "metadata": {},
   "outputs": [
    {
     "data": {
      "text/plain": [
       "14824"
      ]
     },
     "execution_count": 4,
     "metadata": {},
     "output_type": "execute_result"
    }
   ],
   "source": [
    "data = pd.merge(model_2_data, res_bldg, how='inner', on='PIN')\n",
    "\n",
    "data['has_open_porch'] = (data['SqFtOpenPorch'] != 0).astype('int')\n",
    "data.has_open_porch.sum()"
   ]
  },
  {
   "cell_type": "code",
   "execution_count": 5,
   "metadata": {},
   "outputs": [
    {
     "data": {
      "text/plain": [
       "0        180\n",
       "1         45\n",
       "2        110\n",
       "3          0\n",
       "4          0\n",
       "        ... \n",
       "28203    130\n",
       "28204      0\n",
       "28205      0\n",
       "28206    450\n",
       "28207      0\n",
       "Name: SqFtOpenPorch, Length: 28208, dtype: int64"
      ]
     },
     "execution_count": 5,
     "metadata": {},
     "output_type": "execute_result"
    }
   ],
   "source": [
    "data.SqFtOpenPorch"
   ]
  },
  {
   "cell_type": "code",
   "execution_count": 6,
   "metadata": {},
   "outputs": [],
   "source": [
    "model_3_data = data.loc[:,['LogSalePrice', 'LogSqFt', 'is_waterfront', 'SqFtOpenPorch', 'PIN']]\n"
   ]
  },
  {
   "cell_type": "markdown",
   "metadata": {},
   "source": [
    "# Modeling"
   ]
  },
  {
   "cell_type": "code",
   "execution_count": 7,
   "metadata": {},
   "outputs": [],
   "source": [
    "test_df = model_3_data.loc[:,['LogSalePrice', 'LogSqFt', 'is_waterfront', 'SqFtOpenPorch']]"
   ]
  },
  {
   "cell_type": "code",
   "execution_count": 8,
   "metadata": {},
   "outputs": [
    {
     "name": "stdout",
     "output_type": "stream",
     "text": [
      "Rsquared: 0.35114164754398336\n",
      "BETA values:\n",
      "Intercept        8.173917\n",
      "LogSqFt          1.586262\n",
      "is_waterfront    0.405475\n",
      "SqFtOpenPorch    0.000202\n",
      "dtype: float64\n",
      "------------------------------------\n",
      " \n",
      "                            OLS Regression Results                            \n",
      "==============================================================================\n",
      "Dep. Variable:           LogSalePrice   R-squared:                       0.351\n",
      "Model:                            OLS   Adj. R-squared:                  0.351\n",
      "Method:                 Least Squares   F-statistic:                     5088.\n",
      "Date:                Thu, 18 Jun 2020   Prob (F-statistic):               0.00\n",
      "Time:                        14:58:47   Log-Likelihood:                -15775.\n",
      "No. Observations:               28208   AIC:                         3.156e+04\n",
      "Df Residuals:                   28204   BIC:                         3.159e+04\n",
      "Df Model:                           3                                         \n",
      "Covariance Type:            nonrobust                                         \n",
      "=================================================================================\n",
      "                    coef    std err          t      P>|t|      [0.025      0.975]\n",
      "---------------------------------------------------------------------------------\n",
      "Intercept         8.1739      0.047    172.842      0.000       8.081       8.267\n",
      "LogSqFt           1.5863      0.014    109.577      0.000       1.558       1.615\n",
      "is_waterfront     0.4055      0.022     18.833      0.000       0.363       0.448\n",
      "SqFtOpenPorch     0.0002   1.94e-05     10.435      0.000       0.000       0.000\n",
      "==============================================================================\n",
      "Omnibus:                     1042.630   Durbin-Watson:                   1.884\n",
      "Prob(Omnibus):                  0.000   Jarque-Bera (JB):             2918.742\n",
      "Skew:                          -0.121   Prob(JB):                         0.00\n",
      "Kurtosis:                       4.557   Cond. No.                     3.12e+03\n",
      "==============================================================================\n",
      "\n",
      "Warnings:\n",
      "[1] Standard Errors assume that the covariance matrix of the errors is correctly specified.\n",
      "[2] The condition number is large, 3.12e+03. This might indicate that there are\n",
      "strong multicollinearity or other numerical problems.\n"
     ]
    },
    {
     "data": {
      "text/plain": [
       "<statsmodels.regression.linear_model.RegressionResultsWrapper at 0x7f3f51cc9490>"
      ]
     },
     "execution_count": 8,
     "metadata": {},
     "output_type": "execute_result"
    }
   ],
   "source": [
    "cm_functions.get_fsm(test_df)"
   ]
  },
  {
   "cell_type": "markdown",
   "metadata": {},
   "source": [
    "## Because this doesn't seem to help our model, I'm going to look at the total porch sq ft combined"
   ]
  },
  {
   "cell_type": "code",
   "execution_count": 9,
   "metadata": {},
   "outputs": [],
   "source": [
    "data['porch_sq_ft'] = data.SqFtEnclosedPorch + data.SqFtOpenPorch\n",
    "data['has_open_porch'] = (data['porch_sq_ft'] != 0).astype('int')\n",
    "\n",
    "model_3_data = data.loc[:,['LogSalePrice', 'LogSqFt', 'is_waterfront', 'has_open_porch', 'PIN']]"
   ]
  },
  {
   "cell_type": "code",
   "execution_count": 10,
   "metadata": {},
   "outputs": [
    {
     "name": "stdout",
     "output_type": "stream",
     "text": [
      "Rsquared: 0.349911956032983\n",
      "BETA values:\n",
      "Intercept         8.105801\n",
      "LogSqFt           1.604952\n",
      "is_waterfront     0.418452\n",
      "has_open_porch    0.039779\n",
      "dtype: float64\n",
      "------------------------------------\n",
      " \n",
      "                            OLS Regression Results                            \n",
      "==============================================================================\n",
      "Dep. Variable:           LogSalePrice   R-squared:                       0.350\n",
      "Model:                            OLS   Adj. R-squared:                  0.350\n",
      "Method:                 Least Squares   F-statistic:                     5060.\n",
      "Date:                Thu, 18 Jun 2020   Prob (F-statistic):               0.00\n",
      "Time:                        14:58:48   Log-Likelihood:                -15801.\n",
      "No. Observations:               28208   AIC:                         3.161e+04\n",
      "Df Residuals:                   28204   BIC:                         3.164e+04\n",
      "Df Model:                           3                                         \n",
      "Covariance Type:            nonrobust                                         \n",
      "==================================================================================\n",
      "                     coef    std err          t      P>|t|      [0.025      0.975]\n",
      "----------------------------------------------------------------------------------\n",
      "Intercept          8.1058      0.046    174.546      0.000       8.015       8.197\n",
      "LogSqFt            1.6050      0.014    112.040      0.000       1.577       1.633\n",
      "is_waterfront      0.4185      0.022     19.449      0.000       0.376       0.461\n",
      "has_open_porch     0.0398      0.005      7.439      0.000       0.029       0.050\n",
      "==============================================================================\n",
      "Omnibus:                     1021.551   Durbin-Watson:                   1.886\n",
      "Prob(Omnibus):                  0.000   Jarque-Bera (JB):             2860.165\n",
      "Skew:                          -0.110   Prob(JB):                         0.00\n",
      "Kurtosis:                       4.544   Cond. No.                         67.4\n",
      "==============================================================================\n",
      "\n",
      "Warnings:\n",
      "[1] Standard Errors assume that the covariance matrix of the errors is correctly specified.\n"
     ]
    }
   ],
   "source": [
    "test_df = model_3_data.loc[:,['LogSalePrice', 'LogSqFt', 'is_waterfront', 'has_open_porch']]\n",
    "model = cm_functions.get_fsm(test_df)"
   ]
  },
  {
   "cell_type": "code",
   "execution_count": 11,
   "metadata": {},
   "outputs": [
    {
     "name": "stdout",
     "output_type": "stream",
     "text": [
      "Lagrange Multiplier p-value: 0.0\n",
      "F-statistic p-value: 0.0\n",
      "\n",
      "\n",
      "The null hypothesis is homoscedasticity, alternative hypothesis is heteroscedasticity.    Thus returning a low p-value means that the current model violates the homoscedasticity assumption\n"
     ]
    },
    {
     "data": {
      "image/png": "[encoded data removed]",
      "text/plain": [
       "<Figure size 432x288 with 1 Axes>"
      ]
     },
     "metadata": {
      "needs_background": "light"
     },
     "output_type": "display_data"
    }
   ],
   "source": [
    "cm_functions.lr_homoscad(model,test_df)"
   ]
  },
  {
   "cell_type": "code",
   "execution_count": 12,
   "metadata": {},
   "outputs": [
    {
     "data": {
      "image/png": "[encoded data removed]",
      "text/plain": [
       "<Figure size 432x288 with 1 Axes>"
      ]
     },
     "metadata": {
      "needs_background": "light"
     },
     "output_type": "display_data"
    }
   ],
   "source": [
    "cm_functions.lr_normality(model)"
   ]
  },
  {
   "cell_type": "code",
   "execution_count": 19,
   "metadata": {},
   "outputs": [
    {
     "name": "stdout",
     "output_type": "stream",
     "text": [
      "Rainbow statistic: 0.9634339337980258\n",
      "Rainbow p-value: 0.986507458848668\n"
     ]
    },
    {
     "data": {
      "text/plain": [
       "(0.9634339337980258, 0.986507458848668)"
      ]
     },
     "execution_count": 19,
     "metadata": {},
     "output_type": "execute_result"
    }
   ],
   "source": [
    "cm_functions.lr_linear(model)"
   ]
  },
  {
   "cell_type": "code",
   "execution_count": null,
   "metadata": {},
   "outputs": [],
   "source": []
  }
 ],
 "metadata": {
  "kernelspec": {
   "display_name": "Python 3",
   "language": "python",
   "name": "python3"
  },
  "language_info": {
   "codemirror_mode": {
    "name": "ipython",
    "version": 3
   },
   "file_extension": ".py",
   "mimetype": "text/x-python",
   "name": "python",
   "nbconvert_exporter": "python",
   "pygments_lexer": "ipython3",
   "version": "3.8.3"
  }
 },
 "nbformat": 4,
 "nbformat_minor": 4
}
